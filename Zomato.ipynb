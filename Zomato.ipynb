{
  "cells": [
    {
      "cell_type": "markdown",
      "metadata": {
        "id": "2yOrIL-0zp5H"
      },
      "source": [
        "# Breakdown of this notebook:\n",
        "1. **Loading the dataset:** Load the data and import the libraries. <br>\n",
        "2. **Data Cleaning:** <br>\n",
        " - Deleting redundant columns.\n",
        " - Renaming the columns.\n",
        " - Dropping duplicates.\n",
        " - Cleaning individual columns.\n",
        " - Remove the NaN values from the dataset\n",
        " - #Some Transformations\n",
        "3. **Regression Analysis**\n",
        " - Linear Regression\n",
        " - Decision Tree Regression\n",
        " - Random Forest Regression\n",
        "4. **Data Visualization:** Using plots to find relations between the features.\n",
        " - Restaurants delivering Online or not\n",
        " - Restaurants allowing table booking or not\n",
        " - Table booking Rate vs Rate\n",
        " - Best Location\n",
        " - Relation between Location and Rating\n",
        " - Restaurant Type\n",
        " - Gaussian Rest type and Rating\n",
        " - Types of Services\n",
        " - Relation between Type and Rating\n",
        " - Cost of Restuarant\n",
        " - No. of restaurants in a Location\n",
        " - Restaurant type\n",
        " - Most famous restaurant chains in Bengaluru "
      ]
    },
    {
      "cell_type": "code",
      "source": [
        "from google.colab import drive\n",
        "drive.mount('/content/drive')"
      ],
      "metadata": {
        "colab": {
          "base_uri": "https://localhost:8080/"
        },
        "id": "kyHrTGbUzw1O",
        "outputId": "0bc2131f-84d1-4381-9562-74b7c05ffa5a"
      },
      "execution_count": 1,
      "outputs": [
        {
          "output_type": "stream",
          "name": "stdout",
          "text": [
            "Mounted at /content/drive\n"
          ]
        }
      ]
    },
    {
      "cell_type": "markdown",
      "metadata": {
        "id": "SwFA3yvizp5M"
      },
      "source": [
        "#### The basic idea is analyzing the <font color=blue>Buisness Problem of Zomato </font> to get a fair idea about the factors affecting the establishment of different types of restaurant at different places in Bengaluru, aggregate rating of each restaurant and many more. I have provided the link to download the dataset at the end of this notebook."
      ]
    },
    {
      "cell_type": "code",
      "execution_count": 2,
      "metadata": {
        "id": "QATpaeugzp5M"
      },
      "outputs": [],
      "source": [
        "#Importing Libraries\n",
        "import numpy as np\n",
        "import pandas as pd\n",
        "import seaborn as sb\n",
        "import matplotlib.pyplot as plt\n",
        "import seaborn as sns\n",
        "from sklearn.linear_model import LogisticRegression\n",
        "from sklearn.linear_model import LinearRegression\n",
        "from sklearn.model_selection import train_test_split\n",
        "from sklearn.metrics import classification_report\n",
        "from sklearn.metrics import confusion_matrix\n",
        "from sklearn.metrics import r2_score"
      ]
    },
    {
      "cell_type": "code",
      "execution_count": 3,
      "metadata": {
        "colab": {
          "base_uri": "https://localhost:8080/",
          "height": 652
        },
        "id": "62p3sM_Yzp5N",
        "outputId": "2a185ae2-8d58-4a95-ae4f-08ef233d551f"
      },
      "outputs": [
        {
          "output_type": "execute_result",
          "data": {
            "text/plain": [
              "                                                 url  \\\n",
              "0  https://www.zomato.com/bangalore/jalsa-banasha...   \n",
              "1  https://www.zomato.com/bangalore/spice-elephan...   \n",
              "2  https://www.zomato.com/SanchurroBangalore?cont...   \n",
              "3  https://www.zomato.com/bangalore/addhuri-udupi...   \n",
              "4  https://www.zomato.com/bangalore/grand-village...   \n",
              "\n",
              "                                             address                   name  \\\n",
              "0  942, 21st Main Road, 2nd Stage, Banashankari, ...                  Jalsa   \n",
              "1  2nd Floor, 80 Feet Road, Near Big Bazaar, 6th ...         Spice Elephant   \n",
              "2  1112, Next to KIMS Medical College, 17th Cross...        San Churro Cafe   \n",
              "3  1st Floor, Annakuteera, 3rd Stage, Banashankar...  Addhuri Udupi Bhojana   \n",
              "4  10, 3rd Floor, Lakshmi Associates, Gandhi Baza...          Grand Village   \n",
              "\n",
              "  online_order book_table   rate  votes                             phone  \\\n",
              "0          Yes        Yes  4.1/5    775    080 42297555\\r\\n+91 9743772233   \n",
              "1          Yes         No  4.1/5    787                      080 41714161   \n",
              "2          Yes         No  3.8/5    918                    +91 9663487993   \n",
              "3           No         No  3.7/5     88                    +91 9620009302   \n",
              "4           No         No  3.8/5    166  +91 8026612447\\r\\n+91 9901210005   \n",
              "\n",
              "       location            rest_type  \\\n",
              "0  Banashankari        Casual Dining   \n",
              "1  Banashankari        Casual Dining   \n",
              "2  Banashankari  Cafe, Casual Dining   \n",
              "3  Banashankari          Quick Bites   \n",
              "4  Basavanagudi        Casual Dining   \n",
              "\n",
              "                                          dish_liked  \\\n",
              "0  Pasta, Lunch Buffet, Masala Papad, Paneer Laja...   \n",
              "1  Momos, Lunch Buffet, Chocolate Nirvana, Thai G...   \n",
              "2  Churros, Cannelloni, Minestrone Soup, Hot Choc...   \n",
              "3                                        Masala Dosa   \n",
              "4                                Panipuri, Gol Gappe   \n",
              "\n",
              "                         cuisines approx_cost(for two people)  \\\n",
              "0  North Indian, Mughlai, Chinese                         800   \n",
              "1     Chinese, North Indian, Thai                         800   \n",
              "2          Cafe, Mexican, Italian                         800   \n",
              "3      South Indian, North Indian                         300   \n",
              "4        North Indian, Rajasthani                         600   \n",
              "\n",
              "                                        reviews_list menu_item  \\\n",
              "0  [('Rated 4.0', 'RATED\\n  A beautiful place to ...        []   \n",
              "1  [('Rated 4.0', 'RATED\\n  Had been here for din...        []   \n",
              "2  [('Rated 3.0', \"RATED\\n  Ambience is not that ...        []   \n",
              "3  [('Rated 4.0', \"RATED\\n  Great food and proper...        []   \n",
              "4  [('Rated 4.0', 'RATED\\n  Very good restaurant ...        []   \n",
              "\n",
              "  listed_in(type) listed_in(city)  \n",
              "0          Buffet    Banashankari  \n",
              "1          Buffet    Banashankari  \n",
              "2          Buffet    Banashankari  \n",
              "3          Buffet    Banashankari  \n",
              "4          Buffet    Banashankari  "
            ],
            "text/html": [
              "\n",
              "  <div id=\"df-4daba88c-8568-442e-8282-26a91aea52ac\">\n",
              "    <div class=\"colab-df-container\">\n",
              "      <div>\n",
              "<style scoped>\n",
              "    .dataframe tbody tr th:only-of-type {\n",
              "        vertical-align: middle;\n",
              "    }\n",
              "\n",
              "    .dataframe tbody tr th {\n",
              "        vertical-align: top;\n",
              "    }\n",
              "\n",
              "    .dataframe thead th {\n",
              "        text-align: right;\n",
              "    }\n",
              "</style>\n",
              "<table border=\"1\" class=\"dataframe\">\n",
              "  <thead>\n",
              "    <tr style=\"text-align: right;\">\n",
              "      <th></th>\n",
              "      <th>url</th>\n",
              "      <th>address</th>\n",
              "      <th>name</th>\n",
              "      <th>online_order</th>\n",
              "      <th>book_table</th>\n",
              "      <th>rate</th>\n",
              "      <th>votes</th>\n",
              "      <th>phone</th>\n",
              "      <th>location</th>\n",
              "      <th>rest_type</th>\n",
              "      <th>dish_liked</th>\n",
              "      <th>cuisines</th>\n",
              "      <th>approx_cost(for two people)</th>\n",
              "      <th>reviews_list</th>\n",
              "      <th>menu_item</th>\n",
              "      <th>listed_in(type)</th>\n",
              "      <th>listed_in(city)</th>\n",
              "    </tr>\n",
              "  </thead>\n",
              "  <tbody>\n",
              "    <tr>\n",
              "      <th>0</th>\n",
              "      <td>https://www.zomato.com/bangalore/jalsa-banasha...</td>\n",
              "      <td>942, 21st Main Road, 2nd Stage, Banashankari, ...</td>\n",
              "      <td>Jalsa</td>\n",
              "      <td>Yes</td>\n",
              "      <td>Yes</td>\n",
              "      <td>4.1/5</td>\n",
              "      <td>775</td>\n",
              "      <td>080 42297555\\r\\n+91 9743772233</td>\n",
              "      <td>Banashankari</td>\n",
              "      <td>Casual Dining</td>\n",
              "      <td>Pasta, Lunch Buffet, Masala Papad, Paneer Laja...</td>\n",
              "      <td>North Indian, Mughlai, Chinese</td>\n",
              "      <td>800</td>\n",
              "      <td>[('Rated 4.0', 'RATED\\n  A beautiful place to ...</td>\n",
              "      <td>[]</td>\n",
              "      <td>Buffet</td>\n",
              "      <td>Banashankari</td>\n",
              "    </tr>\n",
              "    <tr>\n",
              "      <th>1</th>\n",
              "      <td>https://www.zomato.com/bangalore/spice-elephan...</td>\n",
              "      <td>2nd Floor, 80 Feet Road, Near Big Bazaar, 6th ...</td>\n",
              "      <td>Spice Elephant</td>\n",
              "      <td>Yes</td>\n",
              "      <td>No</td>\n",
              "      <td>4.1/5</td>\n",
              "      <td>787</td>\n",
              "      <td>080 41714161</td>\n",
              "      <td>Banashankari</td>\n",
              "      <td>Casual Dining</td>\n",
              "      <td>Momos, Lunch Buffet, Chocolate Nirvana, Thai G...</td>\n",
              "      <td>Chinese, North Indian, Thai</td>\n",
              "      <td>800</td>\n",
              "      <td>[('Rated 4.0', 'RATED\\n  Had been here for din...</td>\n",
              "      <td>[]</td>\n",
              "      <td>Buffet</td>\n",
              "      <td>Banashankari</td>\n",
              "    </tr>\n",
              "    <tr>\n",
              "      <th>2</th>\n",
              "      <td>https://www.zomato.com/SanchurroBangalore?cont...</td>\n",
              "      <td>1112, Next to KIMS Medical College, 17th Cross...</td>\n",
              "      <td>San Churro Cafe</td>\n",
              "      <td>Yes</td>\n",
              "      <td>No</td>\n",
              "      <td>3.8/5</td>\n",
              "      <td>918</td>\n",
              "      <td>+91 9663487993</td>\n",
              "      <td>Banashankari</td>\n",
              "      <td>Cafe, Casual Dining</td>\n",
              "      <td>Churros, Cannelloni, Minestrone Soup, Hot Choc...</td>\n",
              "      <td>Cafe, Mexican, Italian</td>\n",
              "      <td>800</td>\n",
              "      <td>[('Rated 3.0', \"RATED\\n  Ambience is not that ...</td>\n",
              "      <td>[]</td>\n",
              "      <td>Buffet</td>\n",
              "      <td>Banashankari</td>\n",
              "    </tr>\n",
              "    <tr>\n",
              "      <th>3</th>\n",
              "      <td>https://www.zomato.com/bangalore/addhuri-udupi...</td>\n",
              "      <td>1st Floor, Annakuteera, 3rd Stage, Banashankar...</td>\n",
              "      <td>Addhuri Udupi Bhojana</td>\n",
              "      <td>No</td>\n",
              "      <td>No</td>\n",
              "      <td>3.7/5</td>\n",
              "      <td>88</td>\n",
              "      <td>+91 9620009302</td>\n",
              "      <td>Banashankari</td>\n",
              "      <td>Quick Bites</td>\n",
              "      <td>Masala Dosa</td>\n",
              "      <td>South Indian, North Indian</td>\n",
              "      <td>300</td>\n",
              "      <td>[('Rated 4.0', \"RATED\\n  Great food and proper...</td>\n",
              "      <td>[]</td>\n",
              "      <td>Buffet</td>\n",
              "      <td>Banashankari</td>\n",
              "    </tr>\n",
              "    <tr>\n",
              "      <th>4</th>\n",
              "      <td>https://www.zomato.com/bangalore/grand-village...</td>\n",
              "      <td>10, 3rd Floor, Lakshmi Associates, Gandhi Baza...</td>\n",
              "      <td>Grand Village</td>\n",
              "      <td>No</td>\n",
              "      <td>No</td>\n",
              "      <td>3.8/5</td>\n",
              "      <td>166</td>\n",
              "      <td>+91 8026612447\\r\\n+91 9901210005</td>\n",
              "      <td>Basavanagudi</td>\n",
              "      <td>Casual Dining</td>\n",
              "      <td>Panipuri, Gol Gappe</td>\n",
              "      <td>North Indian, Rajasthani</td>\n",
              "      <td>600</td>\n",
              "      <td>[('Rated 4.0', 'RATED\\n  Very good restaurant ...</td>\n",
              "      <td>[]</td>\n",
              "      <td>Buffet</td>\n",
              "      <td>Banashankari</td>\n",
              "    </tr>\n",
              "  </tbody>\n",
              "</table>\n",
              "</div>\n",
              "      <button class=\"colab-df-convert\" onclick=\"convertToInteractive('df-4daba88c-8568-442e-8282-26a91aea52ac')\"\n",
              "              title=\"Convert this dataframe to an interactive table.\"\n",
              "              style=\"display:none;\">\n",
              "        \n",
              "  <svg xmlns=\"http://www.w3.org/2000/svg\" height=\"24px\"viewBox=\"0 0 24 24\"\n",
              "       width=\"24px\">\n",
              "    <path d=\"M0 0h24v24H0V0z\" fill=\"none\"/>\n",
              "    <path d=\"M18.56 5.44l.94 2.06.94-2.06 2.06-.94-2.06-.94-.94-2.06-.94 2.06-2.06.94zm-11 1L8.5 8.5l.94-2.06 2.06-.94-2.06-.94L8.5 2.5l-.94 2.06-2.06.94zm10 10l.94 2.06.94-2.06 2.06-.94-2.06-.94-.94-2.06-.94 2.06-2.06.94z\"/><path d=\"M17.41 7.96l-1.37-1.37c-.4-.4-.92-.59-1.43-.59-.52 0-1.04.2-1.43.59L10.3 9.45l-7.72 7.72c-.78.78-.78 2.05 0 2.83L4 21.41c.39.39.9.59 1.41.59.51 0 1.02-.2 1.41-.59l7.78-7.78 2.81-2.81c.8-.78.8-2.07 0-2.86zM5.41 20L4 18.59l7.72-7.72 1.47 1.35L5.41 20z\"/>\n",
              "  </svg>\n",
              "      </button>\n",
              "      \n",
              "  <style>\n",
              "    .colab-df-container {\n",
              "      display:flex;\n",
              "      flex-wrap:wrap;\n",
              "      gap: 12px;\n",
              "    }\n",
              "\n",
              "    .colab-df-convert {\n",
              "      background-color: #E8F0FE;\n",
              "      border: none;\n",
              "      border-radius: 50%;\n",
              "      cursor: pointer;\n",
              "      display: none;\n",
              "      fill: #1967D2;\n",
              "      height: 32px;\n",
              "      padding: 0 0 0 0;\n",
              "      width: 32px;\n",
              "    }\n",
              "\n",
              "    .colab-df-convert:hover {\n",
              "      background-color: #E2EBFA;\n",
              "      box-shadow: 0px 1px 2px rgba(60, 64, 67, 0.3), 0px 1px 3px 1px rgba(60, 64, 67, 0.15);\n",
              "      fill: #174EA6;\n",
              "    }\n",
              "\n",
              "    [theme=dark] .colab-df-convert {\n",
              "      background-color: #3B4455;\n",
              "      fill: #D2E3FC;\n",
              "    }\n",
              "\n",
              "    [theme=dark] .colab-df-convert:hover {\n",
              "      background-color: #434B5C;\n",
              "      box-shadow: 0px 1px 3px 1px rgba(0, 0, 0, 0.15);\n",
              "      filter: drop-shadow(0px 1px 2px rgba(0, 0, 0, 0.3));\n",
              "      fill: #FFFFFF;\n",
              "    }\n",
              "  </style>\n",
              "\n",
              "      <script>\n",
              "        const buttonEl =\n",
              "          document.querySelector('#df-4daba88c-8568-442e-8282-26a91aea52ac button.colab-df-convert');\n",
              "        buttonEl.style.display =\n",
              "          google.colab.kernel.accessAllowed ? 'block' : 'none';\n",
              "\n",
              "        async function convertToInteractive(key) {\n",
              "          const element = document.querySelector('#df-4daba88c-8568-442e-8282-26a91aea52ac');\n",
              "          const dataTable =\n",
              "            await google.colab.kernel.invokeFunction('convertToInteractive',\n",
              "                                                     [key], {});\n",
              "          if (!dataTable) return;\n",
              "\n",
              "          const docLinkHtml = 'Like what you see? Visit the ' +\n",
              "            '<a target=\"_blank\" href=https://colab.research.google.com/notebooks/data_table.ipynb>data table notebook</a>'\n",
              "            + ' to learn more about interactive tables.';\n",
              "          element.innerHTML = '';\n",
              "          dataTable['output_type'] = 'display_data';\n",
              "          await google.colab.output.renderOutput(dataTable, element);\n",
              "          const docLink = document.createElement('div');\n",
              "          docLink.innerHTML = docLinkHtml;\n",
              "          element.appendChild(docLink);\n",
              "        }\n",
              "      </script>\n",
              "    </div>\n",
              "  </div>\n",
              "  "
            ]
          },
          "metadata": {},
          "execution_count": 3
        }
      ],
      "source": [
        "#reading the dataset\n",
        "zomato_real=pd.read_csv(\"/content/drive/MyDrive/Bharath ML/zomato.csv\")\n",
        "zomato_real.head() # prints the first N rows of a DataFrame"
      ]
    },
    {
      "cell_type": "code",
      "execution_count": 4,
      "metadata": {
        "colab": {
          "base_uri": "https://localhost:8080/"
        },
        "id": "hyoKaZvJzp5O",
        "outputId": "7b5d0dac-9cbc-408c-d2f2-bd19f1a6ffcf"
      },
      "outputs": [
        {
          "output_type": "stream",
          "name": "stdout",
          "text": [
            "<class 'pandas.core.frame.DataFrame'>\n",
            "RangeIndex: 51717 entries, 0 to 51716\n",
            "Data columns (total 17 columns):\n",
            " #   Column                       Non-Null Count  Dtype \n",
            "---  ------                       --------------  ----- \n",
            " 0   url                          51717 non-null  object\n",
            " 1   address                      51717 non-null  object\n",
            " 2   name                         51717 non-null  object\n",
            " 3   online_order                 51717 non-null  object\n",
            " 4   book_table                   51717 non-null  object\n",
            " 5   rate                         43942 non-null  object\n",
            " 6   votes                        51717 non-null  int64 \n",
            " 7   phone                        50509 non-null  object\n",
            " 8   location                     51696 non-null  object\n",
            " 9   rest_type                    51490 non-null  object\n",
            " 10  dish_liked                   23639 non-null  object\n",
            " 11  cuisines                     51672 non-null  object\n",
            " 12  approx_cost(for two people)  51371 non-null  object\n",
            " 13  reviews_list                 51717 non-null  object\n",
            " 14  menu_item                    51717 non-null  object\n",
            " 15  listed_in(type)              51717 non-null  object\n",
            " 16  listed_in(city)              51717 non-null  object\n",
            "dtypes: int64(1), object(16)\n",
            "memory usage: 6.7+ MB\n"
          ]
        }
      ],
      "source": [
        "zomato_real.info()"
      ]
    },
    {
      "cell_type": "code",
      "execution_count": 5,
      "metadata": {
        "id": "uShkGxRNzp5P"
      },
      "outputs": [],
      "source": [
        "#Deleting Unnnecessary Columns\n",
        "zomato=zomato_real.drop(['url','dish_liked','phone'],axis=1) #Dropping the column \"dish_liked\", \"phone\", \"url\" and saving the new dataset as \"zomato\""
      ]
    },
    {
      "cell_type": "code",
      "execution_count": 6,
      "metadata": {
        "id": "ztamM4GEzp5Q"
      },
      "outputs": [],
      "source": [
        "#Removing the Duplicates\n",
        "zomato.duplicated().sum()\n",
        "zomato.drop_duplicates(inplace=True)"
      ]
    },
    {
      "cell_type": "code",
      "execution_count": 7,
      "metadata": {
        "colab": {
          "base_uri": "https://localhost:8080/"
        },
        "id": "kSeQ5ep-zp5Q",
        "outputId": "bd6e5d41-ed52-4a59-9b20-4ea3f9e0a4a0"
      },
      "outputs": [
        {
          "output_type": "stream",
          "name": "stdout",
          "text": [
            "<class 'pandas.core.frame.DataFrame'>\n",
            "Int64Index: 43499 entries, 0 to 51716\n",
            "Data columns (total 14 columns):\n",
            " #   Column                       Non-Null Count  Dtype \n",
            "---  ------                       --------------  ----- \n",
            " 0   address                      43499 non-null  object\n",
            " 1   name                         43499 non-null  object\n",
            " 2   online_order                 43499 non-null  object\n",
            " 3   book_table                   43499 non-null  object\n",
            " 4   rate                         43499 non-null  object\n",
            " 5   votes                        43499 non-null  int64 \n",
            " 6   location                     43499 non-null  object\n",
            " 7   rest_type                    43499 non-null  object\n",
            " 8   cuisines                     43499 non-null  object\n",
            " 9   approx_cost(for two people)  43499 non-null  object\n",
            " 10  reviews_list                 43499 non-null  object\n",
            " 11  menu_item                    43499 non-null  object\n",
            " 12  listed_in(type)              43499 non-null  object\n",
            " 13  listed_in(city)              43499 non-null  object\n",
            "dtypes: int64(1), object(13)\n",
            "memory usage: 5.0+ MB\n"
          ]
        }
      ],
      "source": [
        "#Remove the NaN values from the dataset\n",
        "zomato.isnull().sum()\n",
        "zomato.dropna(how='any',inplace=True)\n",
        "zomato.info() #.info() function is used to get a concise summary of the dataframe"
      ]
    },
    {
      "cell_type": "code",
      "execution_count": 8,
      "metadata": {
        "colab": {
          "base_uri": "https://localhost:8080/"
        },
        "id": "Oq5XGTuTzp5R",
        "outputId": "b4051b83-b531-49e6-bebb-29c79be4523d"
      },
      "outputs": [
        {
          "output_type": "execute_result",
          "data": {
            "text/plain": [
              "Index(['address', 'name', 'online_order', 'book_table', 'rate', 'votes',\n",
              "       'location', 'rest_type', 'cuisines', 'approx_cost(for two people)',\n",
              "       'reviews_list', 'menu_item', 'listed_in(type)', 'listed_in(city)'],\n",
              "      dtype='object')"
            ]
          },
          "metadata": {},
          "execution_count": 8
        }
      ],
      "source": [
        "#Reading Column Names\n",
        "zomato.columns"
      ]
    },
    {
      "cell_type": "code",
      "execution_count": 9,
      "metadata": {
        "colab": {
          "base_uri": "https://localhost:8080/"
        },
        "id": "TqVTLoL7zp5R",
        "outputId": "ea3033e2-120a-47a9-e7a6-b8e819f0eec1"
      },
      "outputs": [
        {
          "output_type": "execute_result",
          "data": {
            "text/plain": [
              "Index(['address', 'name', 'online_order', 'book_table', 'rate', 'votes',\n",
              "       'location', 'rest_type', 'cuisines', 'cost', 'reviews_list',\n",
              "       'menu_item', 'type', 'city'],\n",
              "      dtype='object')"
            ]
          },
          "metadata": {},
          "execution_count": 9
        }
      ],
      "source": [
        "#Changing the column names\n",
        "zomato = zomato.rename(columns={'approx_cost(for two people)':'cost','listed_in(type)':'type',\n",
        "                                  'listed_in(city)':'city'})\n",
        "zomato.columns"
      ]
    },
    {
      "cell_type": "code",
      "execution_count": 10,
      "metadata": {
        "colab": {
          "base_uri": "https://localhost:8080/"
        },
        "id": "2793wWrfzp5S",
        "outputId": "355f8ad0-eb91-40d5-b28b-3af94466b6fc"
      },
      "outputs": [
        {
          "output_type": "stream",
          "name": "stdout",
          "text": [
            "<class 'pandas.core.frame.DataFrame'>\n",
            "Int64Index: 43499 entries, 0 to 51716\n",
            "Data columns (total 14 columns):\n",
            " #   Column        Non-Null Count  Dtype  \n",
            "---  ------        --------------  -----  \n",
            " 0   address       43499 non-null  object \n",
            " 1   name          43499 non-null  object \n",
            " 2   online_order  43499 non-null  object \n",
            " 3   book_table    43499 non-null  object \n",
            " 4   rate          43499 non-null  object \n",
            " 5   votes         43499 non-null  int64  \n",
            " 6   location      43499 non-null  object \n",
            " 7   rest_type     43499 non-null  object \n",
            " 8   cuisines      43499 non-null  object \n",
            " 9   cost          43499 non-null  float64\n",
            " 10  reviews_list  43499 non-null  object \n",
            " 11  menu_item     43499 non-null  object \n",
            " 12  type          43499 non-null  object \n",
            " 13  city          43499 non-null  object \n",
            "dtypes: float64(1), int64(1), object(12)\n",
            "memory usage: 5.0+ MB\n"
          ]
        }
      ],
      "source": [
        "#Some Transformations\n",
        "zomato['cost'] = zomato['cost'].astype(str) #Changing the cost to string\n",
        "zomato['cost'] = zomato['cost'].apply(lambda x: x.replace(',','.')) #Using lambda function to replace ',' from cost\n",
        "zomato['cost'] = zomato['cost'].astype(float) # Changing the cost to Float\n",
        "zomato.info()"
      ]
    },
    {
      "cell_type": "code",
      "execution_count": 11,
      "metadata": {
        "colab": {
          "base_uri": "https://localhost:8080/"
        },
        "id": "PwKBWrhWzp5S",
        "outputId": "b3f1bd48-bbd7-4b2d-90a4-b5ad36d01b3a"
      },
      "outputs": [
        {
          "output_type": "execute_result",
          "data": {
            "text/plain": [
              "array(['4.1/5', '3.8/5', '3.7/5', '3.6/5', '4.6/5', '4.0/5', '4.2/5',\n",
              "       '3.9/5', '3.1/5', '3.0/5', '3.2/5', '3.3/5', '2.8/5', '4.4/5',\n",
              "       '4.3/5', 'NEW', '2.9/5', '3.5/5', '2.6/5', '3.8 /5', '3.4/5',\n",
              "       '4.5/5', '2.5/5', '2.7/5', '4.7/5', '2.4/5', '2.2/5', '2.3/5',\n",
              "       '3.4 /5', '-', '3.6 /5', '4.8/5', '3.9 /5', '4.2 /5', '4.0 /5',\n",
              "       '4.1 /5', '3.7 /5', '3.1 /5', '2.9 /5', '3.3 /5', '2.8 /5',\n",
              "       '3.5 /5', '2.7 /5', '2.5 /5', '3.2 /5', '2.6 /5', '4.5 /5',\n",
              "       '4.3 /5', '4.4 /5', '4.9/5', '2.1/5', '2.0/5', '1.8/5', '4.6 /5',\n",
              "       '4.9 /5', '3.0 /5', '4.8 /5', '2.3 /5', '4.7 /5', '2.4 /5',\n",
              "       '2.1 /5', '2.2 /5', '2.0 /5', '1.8 /5'], dtype=object)"
            ]
          },
          "metadata": {},
          "execution_count": 11
        }
      ],
      "source": [
        "#Reading Rate of dataset\n",
        "zomato['rate'].unique()"
      ]
    },
    {
      "cell_type": "code",
      "execution_count": 12,
      "metadata": {
        "colab": {
          "base_uri": "https://localhost:8080/"
        },
        "id": "ic1Ad8Zszp5T",
        "outputId": "ecf52c6c-cdf3-4fcd-d240-2a8896c21cbc"
      },
      "outputs": [
        {
          "output_type": "stream",
          "name": "stderr",
          "text": [
            "<ipython-input-12-90426a382e1f>:4: DeprecationWarning: `np.str` is a deprecated alias for the builtin `str`. To silence this warning, use `str` by itself. Doing this will not modify any behavior and is safe. If you specifically wanted the numpy scalar type, use `np.str_` here.\n",
            "Deprecated in NumPy 1.20; for more details and guidance: https://numpy.org/devdocs/release/1.20.0-notes.html#deprecations\n",
            "  remove_slash = lambda x: x.replace('/5', '') if type(x) == np.str else x\n"
          ]
        },
        {
          "output_type": "execute_result",
          "data": {
            "text/plain": [
              "0    4.1\n",
              "1    4.1\n",
              "2    3.8\n",
              "3    3.7\n",
              "4    3.8\n",
              "Name: rate, dtype: float64"
            ]
          },
          "metadata": {},
          "execution_count": 12
        }
      ],
      "source": [
        "#Removing '/5' from Rates\n",
        "zomato = zomato.loc[zomato.rate !='NEW']\n",
        "zomato = zomato.loc[zomato.rate !='-'].reset_index(drop=True)\n",
        "remove_slash = lambda x: x.replace('/5', '') if type(x) == np.str else x\n",
        "zomato.rate = zomato.rate.apply(remove_slash).str.strip().astype('float')\n",
        "zomato['rate'].head()"
      ]
    },
    {
      "cell_type": "code",
      "execution_count": 13,
      "metadata": {
        "colab": {
          "base_uri": "https://localhost:8080/"
        },
        "id": "D2pFyWROzp5T",
        "outputId": "8abe6124-520e-422e-e9ff-514f4891a8b1"
      },
      "outputs": [
        {
          "output_type": "execute_result",
          "data": {
            "text/plain": [
              "array([800.  , 300.  , 600.  , 700.  , 550.  , 500.  , 450.  , 650.  ,\n",
              "       400.  , 900.  , 200.  , 750.  , 150.  , 850.  , 100.  ,   1.2 ,\n",
              "       350.  , 250.  , 950.  ,   1.  ,   1.5 ,   1.3 , 199.  ,   1.1 ,\n",
              "         1.6 , 230.  , 130.  ,   1.7 ,   1.35,   2.2 ,   1.4 ,   2.  ,\n",
              "         1.8 ,   1.9 , 180.  , 330.  ,   2.5 ,   2.1 ,   3.  ,   2.8 ,\n",
              "         3.4 ,  50.  ,  40.  ,   1.25,   3.5 ,   4.  ,   2.4 ,   2.6 ,\n",
              "         1.45,  70.  ,   3.2 , 240.  ,   6.  ,   1.05,   2.3 ,   4.1 ,\n",
              "       120.  ,   5.  ,   3.7 ,   1.65,   2.7 ,   4.5 ,  80.  ])"
            ]
          },
          "metadata": {},
          "execution_count": 13
        }
      ],
      "source": [
        "# Adjust the column names\n",
        "zomato.name = zomato.name.apply(lambda x:x.title())\n",
        "zomato.online_order.replace(('Yes','No'),(True, False),inplace=True)\n",
        "zomato.book_table.replace(('Yes','No'),(True, False),inplace=True)\n",
        "zomato.cost.unique()"
      ]
    },
    {
      "cell_type": "code",
      "execution_count": 15,
      "metadata": {
        "id": "yWbFV4xdzp5U"
      },
      "outputs": [],
      "source": [
        "#Encode the input Variables\n",
        "def Encode(zomato):\n",
        "    for column in zomato.columns[~zomato.columns.isin(['rate', 'cost', 'votes'])]:\n",
        "        zomato[column] = zomato[column].factorize()[0]\n",
        "    return zomato\n",
        "\n",
        "zomato_en = Encode(zomato.copy())"
      ]
    },
    {
      "cell_type": "code",
      "execution_count": 16,
      "metadata": {
        "colab": {
          "base_uri": "https://localhost:8080/",
          "height": 612
        },
        "id": "VV6UWfZLzp5U",
        "outputId": "8695340b-9d3b-4057-d2ed-ebbda5eb195b"
      },
      "outputs": [
        {
          "output_type": "execute_result",
          "data": {
            "text/plain": [
              "Index(['address', 'name', 'online_order', 'book_table', 'rate', 'votes',\n",
              "       'location', 'rest_type', 'cuisines', 'cost', 'reviews_list',\n",
              "       'menu_item', 'type', 'city'],\n",
              "      dtype='object')"
            ]
          },
          "metadata": {},
          "execution_count": 16
        },
        {
          "output_type": "display_data",
          "data": {
            "text/plain": [
              "<Figure size 1080x576 with 2 Axes>"
            ],
            "image/png": "[encoded data removed]"
          },
          "metadata": {
            "needs_background": "light"
          }
        }
      ],
      "source": [
        "#Get Correlation between different variables\n",
        "corr = zomato_en.corr(method='kendall')\n",
        "plt.figure(figsize=(15,8))\n",
        "sns.heatmap(corr, annot=True)\n",
        "plt.savefig(\"correlation.png\")\n",
        "zomato_en.columns"
      ]
    },
    {
      "cell_type": "markdown",
      "metadata": {
        "id": "2jZNFMmKzp5U"
      },
      "source": [
        "#### The highest correlation is between name and address which is 0.62 which is not of very much concern "
      ]
    },
    {
      "cell_type": "markdown",
      "metadata": {
        "id": "nSmsONpkzp5U"
      },
      "source": [
        "# Regression Analysis"
      ]
    },
    {
      "cell_type": "markdown",
      "metadata": {
        "id": "tOLAvaGszp5V"
      },
      "source": [
        "### Splitting the Dataset"
      ]
    },
    {
      "cell_type": "code",
      "execution_count": 17,
      "metadata": {
        "colab": {
          "base_uri": "https://localhost:8080/"
        },
        "id": "74iQ61XTzp5V",
        "outputId": "651decd4-866e-4fbf-bfca-e4767b368ffd"
      },
      "outputs": [
        {
          "output_type": "execute_result",
          "data": {
            "text/plain": [
              "16950    3.9\n",
              "767      3.7\n",
              "6750     4.0\n",
              "9471     3.8\n",
              "25162    3.7\n",
              "Name: rate, dtype: float64"
            ]
          },
          "metadata": {},
          "execution_count": 17
        }
      ],
      "source": [
        "#Defining the independent variables and dependent variables\n",
        "x = zomato_en.iloc[:,[2,3,5,6,7,8,9,11]]\n",
        "y = zomato_en['rate']\n",
        "#Getting Test and Training Set\n",
        "x_train,x_test,y_train,y_test=train_test_split(x,y,test_size=.1,random_state=353)\n",
        "x_train.head()\n",
        "y_train.head()"
      ]
    },
    {
      "cell_type": "markdown",
      "metadata": {
        "id": "yRZszqlTzp5V"
      },
      "source": [
        "### Linear Regression"
      ]
    },
    {
      "cell_type": "code",
      "execution_count": 18,
      "metadata": {
        "colab": {
          "base_uri": "https://localhost:8080/"
        },
        "id": "oURerQ8lzp5V",
        "outputId": "f60ace00-bd3b-419e-e34f-1c238e8cb9ae"
      },
      "outputs": [
        {
          "output_type": "execute_result",
          "data": {
            "text/plain": [
              "0.2736233722103949"
            ]
          },
          "metadata": {},
          "execution_count": 18
        }
      ],
      "source": [
        "#Prepare a Linear Regression Model\n",
        "reg=LinearRegression()\n",
        "reg.fit(x_train,y_train)\n",
        "y_pred=reg.predict(x_test)\n",
        "from sklearn.metrics import r2_score\n",
        "r2_score(y_test,y_pred)"
      ]
    },
    {
      "cell_type": "markdown",
      "metadata": {
        "id": "MX7JhWRKzp5W"
      },
      "source": [
        "### Decision Tree Regression "
      ]
    },
    {
      "cell_type": "code",
      "execution_count": 19,
      "metadata": {
        "colab": {
          "base_uri": "https://localhost:8080/"
        },
        "id": "-0gdcHAzzp5W",
        "outputId": "2bb31919-169f-4765-f662-99b23a1c8046"
      },
      "outputs": [
        {
          "output_type": "execute_result",
          "data": {
            "text/plain": [
              "0.8505837075677569"
            ]
          },
          "metadata": {},
          "execution_count": 19
        }
      ],
      "source": [
        "#Prepairng a Decision Tree Regression\n",
        "from sklearn.tree import DecisionTreeRegressor\n",
        "x_train,x_test,y_train,y_test=train_test_split(x,y,test_size=.1,random_state=105)\n",
        "DTree=DecisionTreeRegressor(min_samples_leaf=.0001)\n",
        "DTree.fit(x_train,y_train)\n",
        "y_predict=DTree.predict(x_test)\n",
        "from sklearn.metrics import r2_score\n",
        "r2_score(y_test,y_predict)"
      ]
    },
    {
      "cell_type": "markdown",
      "metadata": {
        "id": "3PFDirG1zp5W"
      },
      "source": [
        "### Random Forest Regression"
      ]
    },
    {
      "cell_type": "code",
      "execution_count": 20,
      "metadata": {
        "colab": {
          "base_uri": "https://localhost:8080/"
        },
        "id": "l6xymabEzp5W",
        "outputId": "570cacfc-d3ec-47f3-a7b9-772a204f1e8c"
      },
      "outputs": [
        {
          "output_type": "execute_result",
          "data": {
            "text/plain": [
              "0.8774282743423502"
            ]
          },
          "metadata": {},
          "execution_count": 20
        }
      ],
      "source": [
        "#Preparing Random Forest REgression\n",
        "from sklearn.ensemble import RandomForestRegressor\n",
        "RForest=RandomForestRegressor(n_estimators=500,random_state=329,min_samples_leaf=.0001)\n",
        "RForest.fit(x_train,y_train)\n",
        "y_predict=RForest.predict(x_test)\n",
        "from sklearn.metrics import r2_score\n",
        "r2_score(y_test,y_predict)"
      ]
    },
    {
      "cell_type": "markdown",
      "metadata": {
        "id": "Ppob8T68zp5W"
      },
      "source": [
        "### Extra Tree Regression"
      ]
    },
    {
      "cell_type": "code",
      "execution_count": 21,
      "metadata": {
        "colab": {
          "base_uri": "https://localhost:8080/"
        },
        "id": "-NBzaJgpzp5X",
        "outputId": "225b70dc-ab86-49e9-c67b-dd1192d0185c"
      },
      "outputs": [
        {
          "output_type": "execute_result",
          "data": {
            "text/plain": [
              "0.9390725654200357"
            ]
          },
          "metadata": {},
          "execution_count": 21
        }
      ],
      "source": [
        "from sklearn.ensemble import  ExtraTreesRegressor\n",
        "ETree=ExtraTreesRegressor(n_estimators = 100)\n",
        "ETree.fit(x_train,y_train)\n",
        "y_predict=ETree.predict(x_test)\n",
        "from sklearn.metrics import r2_score\n",
        "r2_score(y_test,y_predict)"
      ]
    },
    {
      "cell_type": "markdown",
      "metadata": {
        "id": "OTBh3qC0zp5X"
      },
      "source": [
        "# Data Visualization"
      ]
    },
    {
      "cell_type": "markdown",
      "metadata": {
        "id": "ZOK1n1Bnzp5X"
      },
      "source": [
        "#### Restaurants delivering Online or not"
      ]
    },
    {
      "cell_type": "code",
      "execution_count": 22,
      "metadata": {
        "id": "o_KOsM7Wzp5X",
        "outputId": "7978adb3-bf98-48ca-c3a6-50ec67deb818",
        "colab": {
          "base_uri": "https://localhost:8080/",
          "height": 678
        }
      },
      "outputs": [
        {
          "output_type": "stream",
          "name": "stderr",
          "text": [
            "/usr/local/lib/python3.8/dist-packages/seaborn/_decorators.py:36: FutureWarning: Pass the following variable as a keyword arg: x. From version 0.12, the only valid positional argument will be `data`, and passing other arguments without an explicit keyword will result in an error or misinterpretation.\n",
            "  warnings.warn(\n"
          ]
        },
        {
          "output_type": "display_data",
          "data": {
            "text/plain": [
              "<Figure size 720x720 with 1 Axes>"
            ],
            "image/png": "[encoded data removed]"
          },
          "metadata": {
            "needs_background": "light"
          }
        }
      ],
      "source": [
        "#Restaurants delivering Online or not\n",
        "sns.countplot(zomato['online_order'])\n",
        "fig = plt.gcf()\n",
        "fig.set_size_inches(10,10)\n",
        "plt.title('Restaurants delivering online or Not')\n",
        "plt.savefig(\"online.png\")"
      ]
    },
    {
      "cell_type": "markdown",
      "metadata": {
        "id": "Su9ieH85zp5X"
      },
      "source": [
        "#### Restaurants allowing table booking or not"
      ]
    },
    {
      "cell_type": "code",
      "execution_count": 23,
      "metadata": {
        "id": "XsGtXLdgzp5X",
        "outputId": "b718e5e4-5d88-44d3-f619-078d709f2df5",
        "colab": {
          "base_uri": "https://localhost:8080/",
          "height": 697
        }
      },
      "outputs": [
        {
          "output_type": "stream",
          "name": "stderr",
          "text": [
            "/usr/local/lib/python3.8/dist-packages/seaborn/_decorators.py:36: FutureWarning: Pass the following variable as a keyword arg: x. From version 0.12, the only valid positional argument will be `data`, and passing other arguments without an explicit keyword will result in an error or misinterpretation.\n",
            "  warnings.warn(\n"
          ]
        },
        {
          "output_type": "execute_result",
          "data": {
            "text/plain": [
              "Text(0.5, 1.0, 'Restaurants allowing table booking or not')"
            ]
          },
          "metadata": {},
          "execution_count": 23
        },
        {
          "output_type": "display_data",
          "data": {
            "text/plain": [
              "<Figure size 720x720 with 1 Axes>"
            ],
            "image/png": "[encoded data removed]"
          },
          "metadata": {
            "needs_background": "light"
          }
        }
      ],
      "source": [
        "sns.countplot(zomato['book_table'])\n",
        "fig = plt.gcf()\n",
        "fig.set_size_inches(10,10)\n",
        "plt.savefig(\"Book_Table.png\")\n",
        "plt.title('Restaurants allowing table booking or not')"
      ]
    },
    {
      "cell_type": "markdown",
      "metadata": {
        "id": "x7kPZNOjzp5Y"
      },
      "source": [
        "#### Table booking Rate vs Rate"
      ]
    },
    {
      "cell_type": "code",
      "execution_count": 24,
      "metadata": {
        "id": "saZ_hDm7zp5Y",
        "outputId": "556fa259-ad38-47f7-8745-36f4cf3dc267",
        "colab": {
          "base_uri": "https://localhost:8080/",
          "height": 578
        }
      },
      "outputs": [
        {
          "output_type": "display_data",
          "data": {
            "text/plain": [
              "<Figure size 936x648 with 1 Axes>"
            ],
            "image/png": "[encoded data removed]"
          },
          "metadata": {
            "needs_background": "light"
          }
        }
      ],
      "source": [
        "plt.rcParams['figure.figsize'] = (13, 9)\n",
        "Y = pd.crosstab(zomato['rate'], zomato['book_table'])\n",
        "Y.div(Y.sum(1).astype(float), axis = 0).plot(kind = 'bar', stacked = True,color=['red','yellow'])\n",
        "plt.title('table booking vs rate', fontweight = 30, fontsize = 20)\n",
        "plt.legend(loc=\"upper right\")\n",
        "plt.savefig(\"Table_Booking_Rate.png\")\n",
        "plt.show()"
      ]
    },
    {
      "cell_type": "markdown",
      "metadata": {
        "id": "oMOhoQHhzp5Y"
      },
      "source": [
        "#### Location"
      ]
    },
    {
      "cell_type": "code",
      "execution_count": 25,
      "metadata": {
        "id": "E54r7NDhzp5Y",
        "outputId": "73ec1740-1208-4bf1-9098-4772973c08df",
        "colab": {
          "base_uri": "https://localhost:8080/",
          "height": 1000
        }
      },
      "outputs": [
        {
          "output_type": "stream",
          "name": "stderr",
          "text": [
            "/usr/local/lib/python3.8/dist-packages/seaborn/_decorators.py:36: FutureWarning: Pass the following variable as a keyword arg: x. From version 0.12, the only valid positional argument will be `data`, and passing other arguments without an explicit keyword will result in an error or misinterpretation.\n",
            "  warnings.warn(\n",
            "/usr/local/lib/python3.8/dist-packages/seaborn/_decorators.py:36: FutureWarning: Pass the following variable as a keyword arg: x. From version 0.12, the only valid positional argument will be `data`, and passing other arguments without an explicit keyword will result in an error or misinterpretation.\n",
            "  warnings.warn(\n",
            "/usr/local/lib/python3.8/dist-packages/seaborn/_decorators.py:36: FutureWarning: Pass the following variable as a keyword arg: x. From version 0.12, the only valid positional argument will be `data`, and passing other arguments without an explicit keyword will result in an error or misinterpretation.\n",
            "  warnings.warn(\n"
          ]
        },
        {
          "output_type": "execute_result",
          "data": {
            "text/plain": [
              "Text(0.5, 1.0, 'Location')"
            ]
          },
          "metadata": {},
          "execution_count": 25
        },
        {
          "output_type": "display_data",
          "data": {
            "text/plain": [
              "<Figure size 936x936 with 1 Axes>"
            ],
            "image/png": "[encoded data removed]"
          },
          "metadata": {
            "needs_background": "light"
          }
        }
      ],
      "source": [
        "sns.countplot(zomato['city'])\n",
        "sns.countplot(zomato['city']).set_xticklabels(sns.countplot(zomato['city']).get_xticklabels(), rotation=90, ha=\"right\")\n",
        "fig = plt.gcf()\n",
        "fig.set_size_inches(13,13)\n",
        "plt.savefig(\"Location.png\")\n",
        "plt.title('Location')"
      ]
    },
    {
      "cell_type": "markdown",
      "metadata": {
        "id": "WppH5zEMzp5Y"
      },
      "source": [
        "#### Location and Rating"
      ]
    },
    {
      "cell_type": "code",
      "execution_count": 26,
      "metadata": {
        "id": "yv8t4C4hzp5Y",
        "outputId": "b33d66a7-3b80-4a2a-8792-b6222516d660",
        "colab": {
          "base_uri": "https://localhost:8080/",
          "height": 577
        }
      },
      "outputs": [
        {
          "output_type": "display_data",
          "data": {
            "text/plain": [
              "<Figure size 936x648 with 1 Axes>"
            ],
            "image/png": "[encoded data removed]"
          },
          "metadata": {
            "needs_background": "light"
          }
        }
      ],
      "source": [
        "loc_plt=pd.crosstab(zomato['rate'],zomato['city'])\n",
        "loc_plt.plot(kind='bar',stacked=True);\n",
        "plt.title('Location - Rating',fontsize=15,fontweight='bold')\n",
        "plt.ylabel('Location',fontsize=10,fontweight='bold')\n",
        "plt.xlabel('Rating',fontsize=10,fontweight='bold')\n",
        "plt.xticks(fontsize=10,fontweight='bold')\n",
        "plt.yticks(fontsize=10,fontweight='bold');\n",
        "plt.legend().remove();\n",
        "plt.savefig(\"Location Rating.png\")"
      ]
    },
    {
      "cell_type": "markdown",
      "metadata": {
        "id": "CDpRu-zLzp5Z"
      },
      "source": [
        "#### Restaurant Type"
      ]
    },
    {
      "cell_type": "code",
      "execution_count": 27,
      "metadata": {
        "id": "bhL3YGt7zp5Z",
        "outputId": "53fbd18d-ed24-4a75-a42e-d83b4a16183b",
        "colab": {
          "base_uri": "https://localhost:8080/",
          "height": 1000
        }
      },
      "outputs": [
        {
          "output_type": "stream",
          "name": "stderr",
          "text": [
            "/usr/local/lib/python3.8/dist-packages/seaborn/_decorators.py:36: FutureWarning: Pass the following variable as a keyword arg: x. From version 0.12, the only valid positional argument will be `data`, and passing other arguments without an explicit keyword will result in an error or misinterpretation.\n",
            "  warnings.warn(\n",
            "/usr/local/lib/python3.8/dist-packages/seaborn/_decorators.py:36: FutureWarning: Pass the following variable as a keyword arg: x. From version 0.12, the only valid positional argument will be `data`, and passing other arguments without an explicit keyword will result in an error or misinterpretation.\n",
            "  warnings.warn(\n",
            "/usr/local/lib/python3.8/dist-packages/seaborn/_decorators.py:36: FutureWarning: Pass the following variable as a keyword arg: x. From version 0.12, the only valid positional argument will be `data`, and passing other arguments without an explicit keyword will result in an error or misinterpretation.\n",
            "  warnings.warn(\n"
          ]
        },
        {
          "output_type": "execute_result",
          "data": {
            "text/plain": [
              "Text(0.5, 1.0, 'Restuarant Type')"
            ]
          },
          "metadata": {},
          "execution_count": 27
        },
        {
          "output_type": "display_data",
          "data": {
            "text/plain": [
              "<Figure size 1080x1080 with 1 Axes>"
            ],
            "image/png": "[encoded data removed]"
          },
          "metadata": {
            "needs_background": "light"
          }
        }
      ],
      "source": [
        "sns.countplot(zomato['rest_type'])\n",
        "sns.countplot(zomato['rest_type']).set_xticklabels(sns.countplot(zomato['rest_type']).get_xticklabels(), rotation=90, ha=\"right\")\n",
        "fig = plt.gcf()\n",
        "fig.set_size_inches(15,15)\n",
        "plt.savefig(\"Restuarant Type\")\n",
        "plt.title('Restuarant Type')"
      ]
    },
    {
      "cell_type": "markdown",
      "metadata": {
        "id": "QYvZdtzBzp5Z"
      },
      "source": [
        "#### Gaussian Rest type and Rating"
      ]
    },
    {
      "cell_type": "code",
      "execution_count": 28,
      "metadata": {
        "id": "I5AK5XaTzp5Z",
        "outputId": "453d74f0-f14a-4914-c4f1-67d38143e9db",
        "colab": {
          "base_uri": "https://localhost:8080/",
          "height": 0
        }
      },
      "outputs": [
        {
          "output_type": "display_data",
          "data": {
            "text/plain": [
              "<Figure size 936x648 with 1 Axes>"
            ],
            "image/png": "[encoded data removed]"
          },
          "metadata": {
            "needs_background": "light"
          }
        }
      ],
      "source": [
        "loc_plt=pd.crosstab(zomato['rate'],zomato['rest_type'])\n",
        "loc_plt.plot(kind='bar',stacked=True);\n",
        "plt.title('Rest type - Rating',fontsize=15,fontweight='bold')\n",
        "plt.ylabel('Rest type',fontsize=10,fontweight='bold')\n",
        "plt.xlabel('Rating',fontsize=10,fontweight='bold')\n",
        "plt.xticks(fontsize=10,fontweight='bold')\n",
        "plt.yticks(fontsize=10,fontweight='bold');\n",
        "plt.legend().remove();\n",
        "plt.savefig('Rest Type-Rating')"
      ]
    },
    {
      "cell_type": "markdown",
      "metadata": {
        "id": "L5DglQTazp5Z"
      },
      "source": [
        "#### Types of Services"
      ]
    },
    {
      "cell_type": "code",
      "execution_count": 29,
      "metadata": {
        "id": "KcZqQWbxzp5a",
        "outputId": "2c4d3aa9-b708-4f79-82c0-777a06a669e4",
        "colab": {
          "base_uri": "https://localhost:8080/",
          "height": 0
        }
      },
      "outputs": [
        {
          "output_type": "stream",
          "name": "stderr",
          "text": [
            "/usr/local/lib/python3.8/dist-packages/seaborn/_decorators.py:36: FutureWarning: Pass the following variable as a keyword arg: x. From version 0.12, the only valid positional argument will be `data`, and passing other arguments without an explicit keyword will result in an error or misinterpretation.\n",
            "  warnings.warn(\n",
            "/usr/local/lib/python3.8/dist-packages/seaborn/_decorators.py:36: FutureWarning: Pass the following variable as a keyword arg: x. From version 0.12, the only valid positional argument will be `data`, and passing other arguments without an explicit keyword will result in an error or misinterpretation.\n",
            "  warnings.warn(\n",
            "/usr/local/lib/python3.8/dist-packages/seaborn/_decorators.py:36: FutureWarning: Pass the following variable as a keyword arg: x. From version 0.12, the only valid positional argument will be `data`, and passing other arguments without an explicit keyword will result in an error or misinterpretation.\n",
            "  warnings.warn(\n"
          ]
        },
        {
          "output_type": "display_data",
          "data": {
            "text/plain": [
              "<Figure size 1080x1080 with 1 Axes>"
            ],
            "image/png": "[encoded data removed]"
          },
          "metadata": {
            "needs_background": "light"
          }
        }
      ],
      "source": [
        "sns.countplot(zomato['type'])\n",
        "sns.countplot(zomato['type']).set_xticklabels(sns.countplot(zomato['type']).get_xticklabels(), rotation=90, ha=\"right\")\n",
        "fig = plt.gcf()\n",
        "fig.set_size_inches(15,15)\n",
        "plt.title('Type of Service')\n",
        "plt.savefig('Types of Service')"
      ]
    },
    {
      "cell_type": "markdown",
      "metadata": {
        "id": "wmv2KAQOzp5a"
      },
      "source": [
        "#### Type and Rating"
      ]
    },
    {
      "cell_type": "code",
      "execution_count": 30,
      "metadata": {
        "id": "UbjN-qN2zp5a",
        "outputId": "6d889e3a-6cce-45a1-aaa8-1d49476f581e",
        "colab": {
          "base_uri": "https://localhost:8080/",
          "height": 0
        }
      },
      "outputs": [
        {
          "output_type": "display_data",
          "data": {
            "text/plain": [
              "<Figure size 936x648 with 1 Axes>"
            ],
            "image/png": "[encoded data removed]"
          },
          "metadata": {
            "needs_background": "light"
          }
        }
      ],
      "source": [
        "type_plt=pd.crosstab(zomato['rate'],zomato['type'])\n",
        "type_plt.plot(kind='bar',stacked=True);\n",
        "plt.title('Type - Rating',fontsize=15,fontweight='bold')\n",
        "plt.ylabel('Type',fontsize=10,fontweight='bold')\n",
        "plt.xlabel('Rating',fontsize=10,fontweight='bold')\n",
        "plt.xticks(fontsize=10,fontweight='bold')\n",
        "plt.yticks(fontsize=10,fontweight='bold');\n",
        "plt.savefig('Type and Rating')"
      ]
    },
    {
      "cell_type": "markdown",
      "metadata": {
        "id": "KZ37duWbzp5a"
      },
      "source": [
        "#### Cost of Restuarant"
      ]
    },
    {
      "cell_type": "code",
      "execution_count": 31,
      "metadata": {
        "id": "1BcLzyTGzp5b",
        "outputId": "6c8c62b4-6017-4ead-d2c0-38e6e25bb787",
        "colab": {
          "base_uri": "https://localhost:8080/",
          "height": 0
        }
      },
      "outputs": [
        {
          "output_type": "stream",
          "name": "stderr",
          "text": [
            "/usr/local/lib/python3.8/dist-packages/seaborn/_decorators.py:36: FutureWarning: Pass the following variable as a keyword arg: x. From version 0.12, the only valid positional argument will be `data`, and passing other arguments without an explicit keyword will result in an error or misinterpretation.\n",
            "  warnings.warn(\n",
            "/usr/local/lib/python3.8/dist-packages/seaborn/_decorators.py:36: FutureWarning: Pass the following variable as a keyword arg: x. From version 0.12, the only valid positional argument will be `data`, and passing other arguments without an explicit keyword will result in an error or misinterpretation.\n",
            "  warnings.warn(\n",
            "/usr/local/lib/python3.8/dist-packages/seaborn/_decorators.py:36: FutureWarning: Pass the following variable as a keyword arg: x. From version 0.12, the only valid positional argument will be `data`, and passing other arguments without an explicit keyword will result in an error or misinterpretation.\n",
            "  warnings.warn(\n"
          ]
        },
        {
          "output_type": "display_data",
          "data": {
            "text/plain": [
              "<Figure size 1080x1080 with 1 Axes>"
            ],
            "image/png": "[encoded data removed]"
          },
          "metadata": {
            "needs_background": "light"
          }
        }
      ],
      "source": [
        "sns.countplot(zomato['cost'])\n",
        "sns.countplot(zomato['cost']).set_xticklabels(sns.countplot(zomato['cost']).get_xticklabels(), rotation=90, ha=\"right\")\n",
        "fig = plt.gcf()\n",
        "fig.set_size_inches(15,15)\n",
        "plt.title('Cost of Restuarant')\n",
        "plt.savefig('Cost of Restaurant')"
      ]
    },
    {
      "cell_type": "markdown",
      "metadata": {
        "id": "oYeJbOa8zp5b"
      },
      "source": [
        "#### No. of Restaurants in a Location"
      ]
    },
    {
      "cell_type": "code",
      "execution_count": 32,
      "metadata": {
        "id": "Hkl1vXTgzp5b",
        "outputId": "fcb6580e-2dba-447d-f55e-65ca26b38f7d",
        "colab": {
          "base_uri": "https://localhost:8080/",
          "height": 0
        }
      },
      "outputs": [
        {
          "output_type": "display_data",
          "data": {
            "text/plain": [
              "<Figure size 1440x504 with 1 Axes>"
            ],
            "image/png": "[encoded data removed]"
          },
          "metadata": {
            "needs_background": "light"
          }
        }
      ],
      "source": [
        "fig = plt.figure(figsize=(20,7))\n",
        "loc = sns.countplot(x=\"location\",data=zomato_real, palette = \"Set1\")\n",
        "loc.set_xticklabels(loc.get_xticklabels(), rotation=90, ha=\"right\")\n",
        "plt.ylabel(\"Frequency\",size=15)\n",
        "plt.xlabel(\"Location\",size=18)\n",
        "loc\n",
        "plt.title('NO. of restaurants in a Location',size = 20,pad=20)\n",
        "plt.savefig(\"Restaurants in Location\")"
      ]
    },
    {
      "cell_type": "markdown",
      "metadata": {
        "id": "_IXt2o9tzp5b"
      },
      "source": [
        "#### Restaurant type"
      ]
    },
    {
      "cell_type": "code",
      "execution_count": 33,
      "metadata": {
        "id": "pwlA61YLzp5b",
        "outputId": "4e61c46d-d9b2-475e-9f92-32f9f3f02b8f",
        "colab": {
          "base_uri": "https://localhost:8080/",
          "height": 516
        }
      },
      "outputs": [
        {
          "output_type": "display_data",
          "data": {
            "text/plain": [
              "<Figure size 1224x360 with 1 Axes>"
            ],
            "image/png": "[encoded data removed]"
          },
          "metadata": {
            "needs_background": "light"
          }
        }
      ],
      "source": [
        "fig = plt.figure(figsize=(17,5))\n",
        "rest = sns.countplot(x=\"rest_type\",data=zomato_real, palette = \"Set1\")\n",
        "rest.set_xticklabels(rest.get_xticklabels(), rotation=90, ha=\"right\")\n",
        "plt.ylabel(\"Frequency\",size=15)\n",
        "plt.xlabel(\"Restaurant type\",size=15)\n",
        "rest \n",
        "plt.title('Restaurant types',fontsize = 20 ,pad=20)\n",
        "plt.savefig('Restaurant types')"
      ]
    },
    {
      "cell_type": "markdown",
      "metadata": {
        "id": "2KvZ4bDqzp5c"
      },
      "source": [
        "#### Most famous Restaurant chains in Bengaluru"
      ]
    },
    {
      "cell_type": "code",
      "execution_count": 34,
      "metadata": {
        "id": "VV1gh3c6zp5c",
        "outputId": "9d522c65-2932-4b56-89fb-398e841c8920",
        "colab": {
          "base_uri": "https://localhost:8080/",
          "height": 482
        }
      },
      "outputs": [
        {
          "output_type": "display_data",
          "data": {
            "text/plain": [
              "<Figure size 1080x504 with 1 Axes>"
            ],
            "image/png": "[encoded data removed]"
          },
          "metadata": {
            "needs_background": "light"
          }
        }
      ],
      "source": [
        "plt.figure(figsize=(15,7))\n",
        "chains=zomato_real['name'].value_counts()[:20]\n",
        "sns.barplot(x=chains,y=chains.index,palette='Set1')\n",
        "plt.title(\"Most famous restaurant chains in Bangaluru\",size=20,pad=20)\n",
        "plt.xlabel(\"Number of outlets\",size=15)\n",
        "plt.savefig('Most famous restaurant chains')"
      ]
    },
    {
      "cell_type": "markdown",
      "metadata": {
        "id": "0JF2854lzp5c"
      },
      "source": [
        "The Dataset can be downloaded here - https://www.kaggle.com/himanshupoddar/zomato-bangalore-restaurants/downloads/zomato-bangalore-restaurants.zip/1"
      ]
    },
    {
      "cell_type": "code",
      "execution_count": 35,
      "metadata": {
        "id": "kHi8uq7ezp5c"
      },
      "outputs": [],
      "source": [
        "#Deleting Unnnecessary Columns\n",
        "zomato=zomato_real.drop(['url','dish_liked','phone'],axis=1)"
      ]
    },
    {
      "cell_type": "code",
      "source": [
        "zomato.duplicated().sum()\n",
        "zomato.drop_duplicates(inplace=True)"
      ],
      "metadata": {
        "id": "YTuOjdB1D-Y0"
      },
      "execution_count": 36,
      "outputs": []
    },
    {
      "cell_type": "code",
      "source": [
        "zomato.isnull().sum()\n",
        "zomato.dropna(how='any',inplace=True)\n",
        "zomato.info() #.info() function is used to get a concise summary of the dataframe"
      ],
      "metadata": {
        "colab": {
          "base_uri": "https://localhost:8080/"
        },
        "id": "Pu8KKRzKECVZ",
        "outputId": "563c5bb9-7d97-4f20-b3e5-c6a22fdcc1f6"
      },
      "execution_count": 37,
      "outputs": [
        {
          "output_type": "stream",
          "name": "stdout",
          "text": [
            "<class 'pandas.core.frame.DataFrame'>\n",
            "Int64Index: 43499 entries, 0 to 51716\n",
            "Data columns (total 14 columns):\n",
            " #   Column                       Non-Null Count  Dtype \n",
            "---  ------                       --------------  ----- \n",
            " 0   address                      43499 non-null  object\n",
            " 1   name                         43499 non-null  object\n",
            " 2   online_order                 43499 non-null  object\n",
            " 3   book_table                   43499 non-null  object\n",
            " 4   rate                         43499 non-null  object\n",
            " 5   votes                        43499 non-null  int64 \n",
            " 6   location                     43499 non-null  object\n",
            " 7   rest_type                    43499 non-null  object\n",
            " 8   cuisines                     43499 non-null  object\n",
            " 9   approx_cost(for two people)  43499 non-null  object\n",
            " 10  reviews_list                 43499 non-null  object\n",
            " 11  menu_item                    43499 non-null  object\n",
            " 12  listed_in(type)              43499 non-null  object\n",
            " 13  listed_in(city)              43499 non-null  object\n",
            "dtypes: int64(1), object(13)\n",
            "memory usage: 5.0+ MB\n"
          ]
        }
      ]
    },
    {
      "cell_type": "code",
      "source": [
        "#Changing the column names\n",
        "zomato = zomato.rename(columns={'approx_cost(for two people)':'cost','listed_in(type)':'type',\n",
        "                                  'listed_in(city)':'city'})\n",
        "zomato.columns"
      ],
      "metadata": {
        "colab": {
          "base_uri": "https://localhost:8080/"
        },
        "id": "wPoE02D-EHVc",
        "outputId": "18469546-0c01-4151-bd0c-f56ec2253d82"
      },
      "execution_count": 38,
      "outputs": [
        {
          "output_type": "execute_result",
          "data": {
            "text/plain": [
              "Index(['address', 'name', 'online_order', 'book_table', 'rate', 'votes',\n",
              "       'location', 'rest_type', 'cuisines', 'cost', 'reviews_list',\n",
              "       'menu_item', 'type', 'city'],\n",
              "      dtype='object')"
            ]
          },
          "metadata": {},
          "execution_count": 38
        }
      ]
    },
    {
      "cell_type": "code",
      "source": [
        "#Some Transformations\n",
        "zomato['cost'] = zomato['cost'].astype(str) #Changing the cost to string\n",
        "zomato['cost'] = zomato['cost'].apply(lambda x: x.replace(',','.')) #Using lambda function to replace ',' from cost\n",
        "zomato['cost'] = zomato['cost'].astype(float) # Changing the cost to Float\n",
        "zomato.info()"
      ],
      "metadata": {
        "colab": {
          "base_uri": "https://localhost:8080/"
        },
        "id": "EUFh5DPOEKjA",
        "outputId": "7e4e8f62-659a-4775-a0b2-9eb922fba02a"
      },
      "execution_count": 39,
      "outputs": [
        {
          "output_type": "stream",
          "name": "stdout",
          "text": [
            "<class 'pandas.core.frame.DataFrame'>\n",
            "Int64Index: 43499 entries, 0 to 51716\n",
            "Data columns (total 14 columns):\n",
            " #   Column        Non-Null Count  Dtype  \n",
            "---  ------        --------------  -----  \n",
            " 0   address       43499 non-null  object \n",
            " 1   name          43499 non-null  object \n",
            " 2   online_order  43499 non-null  object \n",
            " 3   book_table    43499 non-null  object \n",
            " 4   rate          43499 non-null  object \n",
            " 5   votes         43499 non-null  int64  \n",
            " 6   location      43499 non-null  object \n",
            " 7   rest_type     43499 non-null  object \n",
            " 8   cuisines      43499 non-null  object \n",
            " 9   cost          43499 non-null  float64\n",
            " 10  reviews_list  43499 non-null  object \n",
            " 11  menu_item     43499 non-null  object \n",
            " 12  type          43499 non-null  object \n",
            " 13  city          43499 non-null  object \n",
            "dtypes: float64(1), int64(1), object(12)\n",
            "memory usage: 5.0+ MB\n"
          ]
        }
      ]
    },
    {
      "cell_type": "code",
      "source": [
        "#Reading Rate of dataset\n",
        "zomato['rate'].unique()"
      ],
      "metadata": {
        "colab": {
          "base_uri": "https://localhost:8080/"
        },
        "id": "6-sdVPWbENEx",
        "outputId": "29cfa46e-728a-4c91-9c7a-41a4df34908e"
      },
      "execution_count": 40,
      "outputs": [
        {
          "output_type": "execute_result",
          "data": {
            "text/plain": [
              "array(['4.1/5', '3.8/5', '3.7/5', '3.6/5', '4.6/5', '4.0/5', '4.2/5',\n",
              "       '3.9/5', '3.1/5', '3.0/5', '3.2/5', '3.3/5', '2.8/5', '4.4/5',\n",
              "       '4.3/5', 'NEW', '2.9/5', '3.5/5', '2.6/5', '3.8 /5', '3.4/5',\n",
              "       '4.5/5', '2.5/5', '2.7/5', '4.7/5', '2.4/5', '2.2/5', '2.3/5',\n",
              "       '3.4 /5', '-', '3.6 /5', '4.8/5', '3.9 /5', '4.2 /5', '4.0 /5',\n",
              "       '4.1 /5', '3.7 /5', '3.1 /5', '2.9 /5', '3.3 /5', '2.8 /5',\n",
              "       '3.5 /5', '2.7 /5', '2.5 /5', '3.2 /5', '2.6 /5', '4.5 /5',\n",
              "       '4.3 /5', '4.4 /5', '4.9/5', '2.1/5', '2.0/5', '1.8/5', '4.6 /5',\n",
              "       '4.9 /5', '3.0 /5', '4.8 /5', '2.3 /5', '4.7 /5', '2.4 /5',\n",
              "       '2.1 /5', '2.2 /5', '2.0 /5', '1.8 /5'], dtype=object)"
            ]
          },
          "metadata": {},
          "execution_count": 40
        }
      ]
    },
    {
      "cell_type": "code",
      "source": [
        "#Removing '/5' from Rates\n",
        "zomato = zomato.loc[zomato.rate !='NEW']\n",
        "zomato = zomato.loc[zomato.rate !='-'].reset_index(drop=True)\n",
        "remove_slash = lambda x: x.replace('/5', '') if type(x) == np.str else x\n",
        "zomato.rate = zomato.rate.apply(remove_slash).str.strip().astype('float')\n",
        "zomato['rate'].head()"
      ],
      "metadata": {
        "colab": {
          "base_uri": "https://localhost:8080/"
        },
        "id": "VjrCH636EQPg",
        "outputId": "39933680-e44a-471f-881b-ff830cac4d34"
      },
      "execution_count": 41,
      "outputs": [
        {
          "output_type": "stream",
          "name": "stderr",
          "text": [
            "<ipython-input-41-90426a382e1f>:4: DeprecationWarning: `np.str` is a deprecated alias for the builtin `str`. To silence this warning, use `str` by itself. Doing this will not modify any behavior and is safe. If you specifically wanted the numpy scalar type, use `np.str_` here.\n",
            "Deprecated in NumPy 1.20; for more details and guidance: https://numpy.org/devdocs/release/1.20.0-notes.html#deprecations\n",
            "  remove_slash = lambda x: x.replace('/5', '') if type(x) == np.str else x\n"
          ]
        },
        {
          "output_type": "execute_result",
          "data": {
            "text/plain": [
              "0    4.1\n",
              "1    4.1\n",
              "2    3.8\n",
              "3    3.7\n",
              "4    3.8\n",
              "Name: rate, dtype: float64"
            ]
          },
          "metadata": {},
          "execution_count": 41
        }
      ]
    },
    {
      "cell_type": "code",
      "source": [
        "# Adjust the column names\n",
        "zomato.name = zomato.name.apply(lambda x:x.title())\n",
        "zomato.online_order.replace(('Yes','No'),(True, False),inplace=True)\n",
        "zomato.book_table.replace(('Yes','No'),(True, False),inplace=True)\n",
        "zomato.cost.unique()"
      ],
      "metadata": {
        "colab": {
          "base_uri": "https://localhost:8080/"
        },
        "id": "qnRSzN80ESwp",
        "outputId": "585b6c81-4ae3-43f8-d503-d5e8ef39ba30"
      },
      "execution_count": 42,
      "outputs": [
        {
          "output_type": "execute_result",
          "data": {
            "text/plain": [
              "array([800.  , 300.  , 600.  , 700.  , 550.  , 500.  , 450.  , 650.  ,\n",
              "       400.  , 900.  , 200.  , 750.  , 150.  , 850.  , 100.  ,   1.2 ,\n",
              "       350.  , 250.  , 950.  ,   1.  ,   1.5 ,   1.3 , 199.  ,   1.1 ,\n",
              "         1.6 , 230.  , 130.  ,   1.7 ,   1.35,   2.2 ,   1.4 ,   2.  ,\n",
              "         1.8 ,   1.9 , 180.  , 330.  ,   2.5 ,   2.1 ,   3.  ,   2.8 ,\n",
              "         3.4 ,  50.  ,  40.  ,   1.25,   3.5 ,   4.  ,   2.4 ,   2.6 ,\n",
              "         1.45,  70.  ,   3.2 , 240.  ,   6.  ,   1.05,   2.3 ,   4.1 ,\n",
              "       120.  ,   5.  ,   3.7 ,   1.65,   2.7 ,   4.5 ,  80.  ])"
            ]
          },
          "metadata": {},
          "execution_count": 42
        }
      ]
    },
    {
      "cell_type": "code",
      "source": [
        "## Computing Mean Rating\n",
        "restaurants = list(zomato['name'].unique())\n",
        "zomato['Mean Rating'] = 0\n",
        "\n",
        "for i in range(len(restaurants)):\n",
        "    zomato['Mean Rating'][zomato['name'] == restaurants[i]] = zomato['rate'][zomato['name'] == restaurants[i]].mean()"
      ],
      "metadata": {
        "colab": {
          "base_uri": "https://localhost:8080/"
        },
        "id": "UVH_R3alEV87",
        "outputId": "1fc4eb33-a477-40aa-9f50-bfbf3964e49d"
      },
      "execution_count": 43,
      "outputs": [
        {
          "output_type": "stream",
          "name": "stderr",
          "text": [
            "<ipython-input-43-e3ef80ee3d0c>:6: SettingWithCopyWarning: \n",
            "A value is trying to be set on a copy of a slice from a DataFrame\n",
            "\n",
            "See the caveats in the documentation: https://pandas.pydata.org/pandas-docs/stable/user_guide/indexing.html#returning-a-view-versus-a-copy\n",
            "  zomato['Mean Rating'][zomato['name'] == restaurants[i]] = zomato['rate'][zomato['name'] == restaurants[i]].mean()\n",
            "<ipython-input-43-e3ef80ee3d0c>:6: SettingWithCopyWarning: \n",
            "A value is trying to be set on a copy of a slice from a DataFrame\n",
            "\n",
            "See the caveats in the documentation: https://pandas.pydata.org/pandas-docs/stable/user_guide/indexing.html#returning-a-view-versus-a-copy\n",
            "  zomato['Mean Rating'][zomato['name'] == restaurants[i]] = zomato['rate'][zomato['name'] == restaurants[i]].mean()\n"
          ]
        }
      ]
    },
    {
      "cell_type": "code",
      "source": [
        "from sklearn.preprocessing import MinMaxScaler\n",
        "\n",
        "scaler = MinMaxScaler(feature_range = (1,5))\n",
        "\n",
        "zomato[['Mean Rating']] = scaler.fit_transform(zomato[['Mean Rating']]).round(2)\n",
        "\n",
        "zomato.sample(3)"
      ],
      "metadata": {
        "colab": {
          "base_uri": "https://localhost:8080/",
          "height": 291
        },
        "id": "Jp5LkAf8EaML",
        "outputId": "47c2ed83-b1e5-466b-c54b-0635b637ddcb"
      },
      "execution_count": 44,
      "outputs": [
        {
          "output_type": "execute_result",
          "data": {
            "text/plain": [
              "                                                address                name  \\\n",
              "8458                 8, Hosur Main Road, BTM, Bangalore       Arabian Bites   \n",
              "2557  121, DVG Road, R.M Complex, Basavanagudi, Bang...  Sri Krishna Sweets   \n",
              "8856  29/1, 30th Cross, 4th T Block, Thilknagar, Jay...         Tawa Sagara   \n",
              "\n",
              "      online_order  book_table  rate  votes      location      rest_type  \\\n",
              "8458          True       False   3.4     24           BTM    Quick Bites   \n",
              "2557          True       False   3.7     22  Basavanagudi     Sweet Shop   \n",
              "8856          True       False   3.8    122     Jayanagar  Casual Dining   \n",
              "\n",
              "                   cuisines   cost  \\\n",
              "8458  North Indian, Chinese  300.0   \n",
              "2557       Mithai, Desserts  250.0   \n",
              "8856   Mangalorean, Seafood  700.0   \n",
              "\n",
              "                                           reviews_list  \\\n",
              "8458  [('Rated 4.0', 'RATED\\n  They provide good qua...   \n",
              "2557  [('Rated 5.0', 'RATED\\n  perfect mysurpa'), ('...   \n",
              "8856  [('Rated 1.0', 'RATED\\n  We orders chicken suk...   \n",
              "\n",
              "                                              menu_item      type  \\\n",
              "8458  ['Chicken Biryani', 'Chicken Fried Rice', 'Sha...  Dine-out   \n",
              "2557                                                 []  Desserts   \n",
              "8856                                                 []  Dine-out   \n",
              "\n",
              "              city  Mean Rating  \n",
              "8458           BTM         3.06  \n",
              "2557  Basavanagudi         3.47  \n",
              "8856           BTM         3.58  "
            ],
            "text/html": [
              "\n",
              "  <div id=\"df-44196872-0b42-46be-8f2c-6ae6147cc241\">\n",
              "    <div class=\"colab-df-container\">\n",
              "      <div>\n",
              "<style scoped>\n",
              "    .dataframe tbody tr th:only-of-type {\n",
              "        vertical-align: middle;\n",
              "    }\n",
              "\n",
              "    .dataframe tbody tr th {\n",
              "        vertical-align: top;\n",
              "    }\n",
              "\n",
              "    .dataframe thead th {\n",
              "        text-align: right;\n",
              "    }\n",
              "</style>\n",
              "<table border=\"1\" class=\"dataframe\">\n",
              "  <thead>\n",
              "    <tr style=\"text-align: right;\">\n",
              "      <th></th>\n",
              "      <th>address</th>\n",
              "      <th>name</th>\n",
              "      <th>online_order</th>\n",
              "      <th>book_table</th>\n",
              "      <th>rate</th>\n",
              "      <th>votes</th>\n",
              "      <th>location</th>\n",
              "      <th>rest_type</th>\n",
              "      <th>cuisines</th>\n",
              "      <th>cost</th>\n",
              "      <th>reviews_list</th>\n",
              "      <th>menu_item</th>\n",
              "      <th>type</th>\n",
              "      <th>city</th>\n",
              "      <th>Mean Rating</th>\n",
              "    </tr>\n",
              "  </thead>\n",
              "  <tbody>\n",
              "    <tr>\n",
              "      <th>8458</th>\n",
              "      <td>8, Hosur Main Road, BTM, Bangalore</td>\n",
              "      <td>Arabian Bites</td>\n",
              "      <td>True</td>\n",
              "      <td>False</td>\n",
              "      <td>3.4</td>\n",
              "      <td>24</td>\n",
              "      <td>BTM</td>\n",
              "      <td>Quick Bites</td>\n",
              "      <td>North Indian, Chinese</td>\n",
              "      <td>300.0</td>\n",
              "      <td>[('Rated 4.0', 'RATED\\n  They provide good qua...</td>\n",
              "      <td>['Chicken Biryani', 'Chicken Fried Rice', 'Sha...</td>\n",
              "      <td>Dine-out</td>\n",
              "      <td>BTM</td>\n",
              "      <td>3.06</td>\n",
              "    </tr>\n",
              "    <tr>\n",
              "      <th>2557</th>\n",
              "      <td>121, DVG Road, R.M Complex, Basavanagudi, Bang...</td>\n",
              "      <td>Sri Krishna Sweets</td>\n",
              "      <td>True</td>\n",
              "      <td>False</td>\n",
              "      <td>3.7</td>\n",
              "      <td>22</td>\n",
              "      <td>Basavanagudi</td>\n",
              "      <td>Sweet Shop</td>\n",
              "      <td>Mithai, Desserts</td>\n",
              "      <td>250.0</td>\n",
              "      <td>[('Rated 5.0', 'RATED\\n  perfect mysurpa'), ('...</td>\n",
              "      <td>[]</td>\n",
              "      <td>Desserts</td>\n",
              "      <td>Basavanagudi</td>\n",
              "      <td>3.47</td>\n",
              "    </tr>\n",
              "    <tr>\n",
              "      <th>8856</th>\n",
              "      <td>29/1, 30th Cross, 4th T Block, Thilknagar, Jay...</td>\n",
              "      <td>Tawa Sagara</td>\n",
              "      <td>True</td>\n",
              "      <td>False</td>\n",
              "      <td>3.8</td>\n",
              "      <td>122</td>\n",
              "      <td>Jayanagar</td>\n",
              "      <td>Casual Dining</td>\n",
              "      <td>Mangalorean, Seafood</td>\n",
              "      <td>700.0</td>\n",
              "      <td>[('Rated 1.0', 'RATED\\n  We orders chicken suk...</td>\n",
              "      <td>[]</td>\n",
              "      <td>Dine-out</td>\n",
              "      <td>BTM</td>\n",
              "      <td>3.58</td>\n",
              "    </tr>\n",
              "  </tbody>\n",
              "</table>\n",
              "</div>\n",
              "      <button class=\"colab-df-convert\" onclick=\"convertToInteractive('df-44196872-0b42-46be-8f2c-6ae6147cc241')\"\n",
              "              title=\"Convert this dataframe to an interactive table.\"\n",
              "              style=\"display:none;\">\n",
              "        \n",
              "  <svg xmlns=\"http://www.w3.org/2000/svg\" height=\"24px\"viewBox=\"0 0 24 24\"\n",
              "       width=\"24px\">\n",
              "    <path d=\"M0 0h24v24H0V0z\" fill=\"none\"/>\n",
              "    <path d=\"M18.56 5.44l.94 2.06.94-2.06 2.06-.94-2.06-.94-.94-2.06-.94 2.06-2.06.94zm-11 1L8.5 8.5l.94-2.06 2.06-.94-2.06-.94L8.5 2.5l-.94 2.06-2.06.94zm10 10l.94 2.06.94-2.06 2.06-.94-2.06-.94-.94-2.06-.94 2.06-2.06.94z\"/><path d=\"M17.41 7.96l-1.37-1.37c-.4-.4-.92-.59-1.43-.59-.52 0-1.04.2-1.43.59L10.3 9.45l-7.72 7.72c-.78.78-.78 2.05 0 2.83L4 21.41c.39.39.9.59 1.41.59.51 0 1.02-.2 1.41-.59l7.78-7.78 2.81-2.81c.8-.78.8-2.07 0-2.86zM5.41 20L4 18.59l7.72-7.72 1.47 1.35L5.41 20z\"/>\n",
              "  </svg>\n",
              "      </button>\n",
              "      \n",
              "  <style>\n",
              "    .colab-df-container {\n",
              "      display:flex;\n",
              "      flex-wrap:wrap;\n",
              "      gap: 12px;\n",
              "    }\n",
              "\n",
              "    .colab-df-convert {\n",
              "      background-color: #E8F0FE;\n",
              "      border: none;\n",
              "      border-radius: 50%;\n",
              "      cursor: pointer;\n",
              "      display: none;\n",
              "      fill: #1967D2;\n",
              "      height: 32px;\n",
              "      padding: 0 0 0 0;\n",
              "      width: 32px;\n",
              "    }\n",
              "\n",
              "    .colab-df-convert:hover {\n",
              "      background-color: #E2EBFA;\n",
              "      box-shadow: 0px 1px 2px rgba(60, 64, 67, 0.3), 0px 1px 3px 1px rgba(60, 64, 67, 0.15);\n",
              "      fill: #174EA6;\n",
              "    }\n",
              "\n",
              "    [theme=dark] .colab-df-convert {\n",
              "      background-color: #3B4455;\n",
              "      fill: #D2E3FC;\n",
              "    }\n",
              "\n",
              "    [theme=dark] .colab-df-convert:hover {\n",
              "      background-color: #434B5C;\n",
              "      box-shadow: 0px 1px 3px 1px rgba(0, 0, 0, 0.15);\n",
              "      filter: drop-shadow(0px 1px 2px rgba(0, 0, 0, 0.3));\n",
              "      fill: #FFFFFF;\n",
              "    }\n",
              "  </style>\n",
              "\n",
              "      <script>\n",
              "        const buttonEl =\n",
              "          document.querySelector('#df-44196872-0b42-46be-8f2c-6ae6147cc241 button.colab-df-convert');\n",
              "        buttonEl.style.display =\n",
              "          google.colab.kernel.accessAllowed ? 'block' : 'none';\n",
              "\n",
              "        async function convertToInteractive(key) {\n",
              "          const element = document.querySelector('#df-44196872-0b42-46be-8f2c-6ae6147cc241');\n",
              "          const dataTable =\n",
              "            await google.colab.kernel.invokeFunction('convertToInteractive',\n",
              "                                                     [key], {});\n",
              "          if (!dataTable) return;\n",
              "\n",
              "          const docLinkHtml = 'Like what you see? Visit the ' +\n",
              "            '<a target=\"_blank\" href=https://colab.research.google.com/notebooks/data_table.ipynb>data table notebook</a>'\n",
              "            + ' to learn more about interactive tables.';\n",
              "          element.innerHTML = '';\n",
              "          dataTable['output_type'] = 'display_data';\n",
              "          await google.colab.output.renderOutput(dataTable, element);\n",
              "          const docLink = document.createElement('div');\n",
              "          docLink.innerHTML = docLinkHtml;\n",
              "          element.appendChild(docLink);\n",
              "        }\n",
              "      </script>\n",
              "    </div>\n",
              "  </div>\n",
              "  "
            ]
          },
          "metadata": {},
          "execution_count": 44
        }
      ]
    },
    {
      "cell_type": "code",
      "source": [
        "zomato[\"reviews_list\"] = zomato[\"reviews_list\"].str.lower()\n",
        "zomato[['reviews_list', 'cuisines']].sample(5)"
      ],
      "metadata": {
        "colab": {
          "base_uri": "https://localhost:8080/",
          "height": 206
        },
        "id": "0-Jv8n95EeLD",
        "outputId": "fc68bf43-d85c-4a0f-cf50-a0e217e3d3aa"
      },
      "execution_count": 45,
      "outputs": [
        {
          "output_type": "execute_result",
          "data": {
            "text/plain": [
              "                                            reviews_list  \\\n",
              "33193  [('rated 5.0', 'rated\\n  ambience is good .qua...   \n",
              "26653  [('rated 4.0', 'rated\\n  hey..\\ntasted about 1...   \n",
              "9507   [('rated 5.0', 'rated\\n  quick delivery and th...   \n",
              "31589  [('rated 4.0', \"rated\\n  *new place alert*\\nja...   \n",
              "3404   [('rated 2.0', \"rated\\n  there isn't carmel in...   \n",
              "\n",
              "                                       cuisines  \n",
              "33193                              North Indian  \n",
              "26653  Desserts, Ice Cream, Beverages, Sandwich  \n",
              "9507                               North Indian  \n",
              "31589                Maharashtrian, Street Food  \n",
              "3404                       Beverages, Ice Cream  "
            ],
            "text/html": [
              "\n",
              "  <div id=\"df-c6a2294f-0b6d-40bf-b669-126df70ea2de\">\n",
              "    <div class=\"colab-df-container\">\n",
              "      <div>\n",
              "<style scoped>\n",
              "    .dataframe tbody tr th:only-of-type {\n",
              "        vertical-align: middle;\n",
              "    }\n",
              "\n",
              "    .dataframe tbody tr th {\n",
              "        vertical-align: top;\n",
              "    }\n",
              "\n",
              "    .dataframe thead th {\n",
              "        text-align: right;\n",
              "    }\n",
              "</style>\n",
              "<table border=\"1\" class=\"dataframe\">\n",
              "  <thead>\n",
              "    <tr style=\"text-align: right;\">\n",
              "      <th></th>\n",
              "      <th>reviews_list</th>\n",
              "      <th>cuisines</th>\n",
              "    </tr>\n",
              "  </thead>\n",
              "  <tbody>\n",
              "    <tr>\n",
              "      <th>33193</th>\n",
              "      <td>[('rated 5.0', 'rated\\n  ambience is good .qua...</td>\n",
              "      <td>North Indian</td>\n",
              "    </tr>\n",
              "    <tr>\n",
              "      <th>26653</th>\n",
              "      <td>[('rated 4.0', 'rated\\n  hey..\\ntasted about 1...</td>\n",
              "      <td>Desserts, Ice Cream, Beverages, Sandwich</td>\n",
              "    </tr>\n",
              "    <tr>\n",
              "      <th>9507</th>\n",
              "      <td>[('rated 5.0', 'rated\\n  quick delivery and th...</td>\n",
              "      <td>North Indian</td>\n",
              "    </tr>\n",
              "    <tr>\n",
              "      <th>31589</th>\n",
              "      <td>[('rated 4.0', \"rated\\n  *new place alert*\\nja...</td>\n",
              "      <td>Maharashtrian, Street Food</td>\n",
              "    </tr>\n",
              "    <tr>\n",
              "      <th>3404</th>\n",
              "      <td>[('rated 2.0', \"rated\\n  there isn't carmel in...</td>\n",
              "      <td>Beverages, Ice Cream</td>\n",
              "    </tr>\n",
              "  </tbody>\n",
              "</table>\n",
              "</div>\n",
              "      <button class=\"colab-df-convert\" onclick=\"convertToInteractive('df-c6a2294f-0b6d-40bf-b669-126df70ea2de')\"\n",
              "              title=\"Convert this dataframe to an interactive table.\"\n",
              "              style=\"display:none;\">\n",
              "        \n",
              "  <svg xmlns=\"http://www.w3.org/2000/svg\" height=\"24px\"viewBox=\"0 0 24 24\"\n",
              "       width=\"24px\">\n",
              "    <path d=\"M0 0h24v24H0V0z\" fill=\"none\"/>\n",
              "    <path d=\"M18.56 5.44l.94 2.06.94-2.06 2.06-.94-2.06-.94-.94-2.06-.94 2.06-2.06.94zm-11 1L8.5 8.5l.94-2.06 2.06-.94-2.06-.94L8.5 2.5l-.94 2.06-2.06.94zm10 10l.94 2.06.94-2.06 2.06-.94-2.06-.94-.94-2.06-.94 2.06-2.06.94z\"/><path d=\"M17.41 7.96l-1.37-1.37c-.4-.4-.92-.59-1.43-.59-.52 0-1.04.2-1.43.59L10.3 9.45l-7.72 7.72c-.78.78-.78 2.05 0 2.83L4 21.41c.39.39.9.59 1.41.59.51 0 1.02-.2 1.41-.59l7.78-7.78 2.81-2.81c.8-.78.8-2.07 0-2.86zM5.41 20L4 18.59l7.72-7.72 1.47 1.35L5.41 20z\"/>\n",
              "  </svg>\n",
              "      </button>\n",
              "      \n",
              "  <style>\n",
              "    .colab-df-container {\n",
              "      display:flex;\n",
              "      flex-wrap:wrap;\n",
              "      gap: 12px;\n",
              "    }\n",
              "\n",
              "    .colab-df-convert {\n",
              "      background-color: #E8F0FE;\n",
              "      border: none;\n",
              "      border-radius: 50%;\n",
              "      cursor: pointer;\n",
              "      display: none;\n",
              "      fill: #1967D2;\n",
              "      height: 32px;\n",
              "      padding: 0 0 0 0;\n",
              "      width: 32px;\n",
              "    }\n",
              "\n",
              "    .colab-df-convert:hover {\n",
              "      background-color: #E2EBFA;\n",
              "      box-shadow: 0px 1px 2px rgba(60, 64, 67, 0.3), 0px 1px 3px 1px rgba(60, 64, 67, 0.15);\n",
              "      fill: #174EA6;\n",
              "    }\n",
              "\n",
              "    [theme=dark] .colab-df-convert {\n",
              "      background-color: #3B4455;\n",
              "      fill: #D2E3FC;\n",
              "    }\n",
              "\n",
              "    [theme=dark] .colab-df-convert:hover {\n",
              "      background-color: #434B5C;\n",
              "      box-shadow: 0px 1px 3px 1px rgba(0, 0, 0, 0.15);\n",
              "      filter: drop-shadow(0px 1px 2px rgba(0, 0, 0, 0.3));\n",
              "      fill: #FFFFFF;\n",
              "    }\n",
              "  </style>\n",
              "\n",
              "      <script>\n",
              "        const buttonEl =\n",
              "          document.querySelector('#df-c6a2294f-0b6d-40bf-b669-126df70ea2de button.colab-df-convert');\n",
              "        buttonEl.style.display =\n",
              "          google.colab.kernel.accessAllowed ? 'block' : 'none';\n",
              "\n",
              "        async function convertToInteractive(key) {\n",
              "          const element = document.querySelector('#df-c6a2294f-0b6d-40bf-b669-126df70ea2de');\n",
              "          const dataTable =\n",
              "            await google.colab.kernel.invokeFunction('convertToInteractive',\n",
              "                                                     [key], {});\n",
              "          if (!dataTable) return;\n",
              "\n",
              "          const docLinkHtml = 'Like what you see? Visit the ' +\n",
              "            '<a target=\"_blank\" href=https://colab.research.google.com/notebooks/data_table.ipynb>data table notebook</a>'\n",
              "            + ' to learn more about interactive tables.';\n",
              "          element.innerHTML = '';\n",
              "          dataTable['output_type'] = 'display_data';\n",
              "          await google.colab.output.renderOutput(dataTable, element);\n",
              "          const docLink = document.createElement('div');\n",
              "          docLink.innerHTML = docLinkHtml;\n",
              "          element.appendChild(docLink);\n",
              "        }\n",
              "      </script>\n",
              "    </div>\n",
              "  </div>\n",
              "  "
            ]
          },
          "metadata": {},
          "execution_count": 45
        }
      ]
    },
    {
      "cell_type": "code",
      "source": [
        "import string\n",
        "PUNCT_TO_REMOVE = string.punctuation\n",
        "def remove_punctuation(text):\n",
        "    \"\"\"custom function to remove the punctuation\"\"\"\n",
        "    return text.translate(str.maketrans('', '', PUNCT_TO_REMOVE))\n",
        "\n",
        "zomato[\"reviews_list\"] = zomato[\"reviews_list\"].apply(lambda text: remove_punctuation(text))\n",
        "zomato[['reviews_list', 'cuisines']].sample(5)"
      ],
      "metadata": {
        "colab": {
          "base_uri": "https://localhost:8080/",
          "height": 206
        },
        "id": "qSDq0E2OEj5H",
        "outputId": "37470107-66ec-44f6-c75d-1f95ad0ea641"
      },
      "execution_count": 46,
      "outputs": [
        {
          "output_type": "execute_result",
          "data": {
            "text/plain": [
              "                                            reviews_list  \\\n",
              "22076  rated 50 ratedn  been there several times good...   \n",
              "21382  rated 10 ratedn  i dont even want to review th...   \n",
              "14358  rated 50 ratedn  i have ordered a few times fr...   \n",
              "29630  rated 40 ratedn  itãx83ãx83ãx82ãx83ãx83ã...   \n",
              "35923  rated 30 ratedn  a typical malyali restaurant ...   \n",
              "\n",
              "                                   cuisines  \n",
              "22076                       Bengali, Bihari  \n",
              "21382              Hyderabadi, North Indian  \n",
              "14358  Cafe, Fast Food, Desserts, Beverages  \n",
              "29630                                Kerala  \n",
              "35923              Kerala, Seafood, Biryani  "
            ],
            "text/html": [
              "\n",
              "  <div id=\"df-0e27ccb5-06c7-453f-9b72-646828d9fe77\">\n",
              "    <div class=\"colab-df-container\">\n",
              "      <div>\n",
              "<style scoped>\n",
              "    .dataframe tbody tr th:only-of-type {\n",
              "        vertical-align: middle;\n",
              "    }\n",
              "\n",
              "    .dataframe tbody tr th {\n",
              "        vertical-align: top;\n",
              "    }\n",
              "\n",
              "    .dataframe thead th {\n",
              "        text-align: right;\n",
              "    }\n",
              "</style>\n",
              "<table border=\"1\" class=\"dataframe\">\n",
              "  <thead>\n",
              "    <tr style=\"text-align: right;\">\n",
              "      <th></th>\n",
              "      <th>reviews_list</th>\n",
              "      <th>cuisines</th>\n",
              "    </tr>\n",
              "  </thead>\n",
              "  <tbody>\n",
              "    <tr>\n",
              "      <th>22076</th>\n",
              "      <td>rated 50 ratedn  been there several times good...</td>\n",
              "      <td>Bengali, Bihari</td>\n",
              "    </tr>\n",
              "    <tr>\n",
              "      <th>21382</th>\n",
              "      <td>rated 10 ratedn  i dont even want to review th...</td>\n",
              "      <td>Hyderabadi, North Indian</td>\n",
              "    </tr>\n",
              "    <tr>\n",
              "      <th>14358</th>\n",
              "      <td>rated 50 ratedn  i have ordered a few times fr...</td>\n",
              "      <td>Cafe, Fast Food, Desserts, Beverages</td>\n",
              "    </tr>\n",
              "    <tr>\n",
              "      <th>29630</th>\n",
              "      <td>rated 40 ratedn  itãx83ãx83ãx82ãx83ãx83ã...</td>\n",
              "      <td>Kerala</td>\n",
              "    </tr>\n",
              "    <tr>\n",
              "      <th>35923</th>\n",
              "      <td>rated 30 ratedn  a typical malyali restaurant ...</td>\n",
              "      <td>Kerala, Seafood, Biryani</td>\n",
              "    </tr>\n",
              "  </tbody>\n",
              "</table>\n",
              "</div>\n",
              "      <button class=\"colab-df-convert\" onclick=\"convertToInteractive('df-0e27ccb5-06c7-453f-9b72-646828d9fe77')\"\n",
              "              title=\"Convert this dataframe to an interactive table.\"\n",
              "              style=\"display:none;\">\n",
              "        \n",
              "  <svg xmlns=\"http://www.w3.org/2000/svg\" height=\"24px\"viewBox=\"0 0 24 24\"\n",
              "       width=\"24px\">\n",
              "    <path d=\"M0 0h24v24H0V0z\" fill=\"none\"/>\n",
              "    <path d=\"M18.56 5.44l.94 2.06.94-2.06 2.06-.94-2.06-.94-.94-2.06-.94 2.06-2.06.94zm-11 1L8.5 8.5l.94-2.06 2.06-.94-2.06-.94L8.5 2.5l-.94 2.06-2.06.94zm10 10l.94 2.06.94-2.06 2.06-.94-2.06-.94-.94-2.06-.94 2.06-2.06.94z\"/><path d=\"M17.41 7.96l-1.37-1.37c-.4-.4-.92-.59-1.43-.59-.52 0-1.04.2-1.43.59L10.3 9.45l-7.72 7.72c-.78.78-.78 2.05 0 2.83L4 21.41c.39.39.9.59 1.41.59.51 0 1.02-.2 1.41-.59l7.78-7.78 2.81-2.81c.8-.78.8-2.07 0-2.86zM5.41 20L4 18.59l7.72-7.72 1.47 1.35L5.41 20z\"/>\n",
              "  </svg>\n",
              "      </button>\n",
              "      \n",
              "  <style>\n",
              "    .colab-df-container {\n",
              "      display:flex;\n",
              "      flex-wrap:wrap;\n",
              "      gap: 12px;\n",
              "    }\n",
              "\n",
              "    .colab-df-convert {\n",
              "      background-color: #E8F0FE;\n",
              "      border: none;\n",
              "      border-radius: 50%;\n",
              "      cursor: pointer;\n",
              "      display: none;\n",
              "      fill: #1967D2;\n",
              "      height: 32px;\n",
              "      padding: 0 0 0 0;\n",
              "      width: 32px;\n",
              "    }\n",
              "\n",
              "    .colab-df-convert:hover {\n",
              "      background-color: #E2EBFA;\n",
              "      box-shadow: 0px 1px 2px rgba(60, 64, 67, 0.3), 0px 1px 3px 1px rgba(60, 64, 67, 0.15);\n",
              "      fill: #174EA6;\n",
              "    }\n",
              "\n",
              "    [theme=dark] .colab-df-convert {\n",
              "      background-color: #3B4455;\n",
              "      fill: #D2E3FC;\n",
              "    }\n",
              "\n",
              "    [theme=dark] .colab-df-convert:hover {\n",
              "      background-color: #434B5C;\n",
              "      box-shadow: 0px 1px 3px 1px rgba(0, 0, 0, 0.15);\n",
              "      filter: drop-shadow(0px 1px 2px rgba(0, 0, 0, 0.3));\n",
              "      fill: #FFFFFF;\n",
              "    }\n",
              "  </style>\n",
              "\n",
              "      <script>\n",
              "        const buttonEl =\n",
              "          document.querySelector('#df-0e27ccb5-06c7-453f-9b72-646828d9fe77 button.colab-df-convert');\n",
              "        buttonEl.style.display =\n",
              "          google.colab.kernel.accessAllowed ? 'block' : 'none';\n",
              "\n",
              "        async function convertToInteractive(key) {\n",
              "          const element = document.querySelector('#df-0e27ccb5-06c7-453f-9b72-646828d9fe77');\n",
              "          const dataTable =\n",
              "            await google.colab.kernel.invokeFunction('convertToInteractive',\n",
              "                                                     [key], {});\n",
              "          if (!dataTable) return;\n",
              "\n",
              "          const docLinkHtml = 'Like what you see? Visit the ' +\n",
              "            '<a target=\"_blank\" href=https://colab.research.google.com/notebooks/data_table.ipynb>data table notebook</a>'\n",
              "            + ' to learn more about interactive tables.';\n",
              "          element.innerHTML = '';\n",
              "          dataTable['output_type'] = 'display_data';\n",
              "          await google.colab.output.renderOutput(dataTable, element);\n",
              "          const docLink = document.createElement('div');\n",
              "          docLink.innerHTML = docLinkHtml;\n",
              "          element.appendChild(docLink);\n",
              "        }\n",
              "      </script>\n",
              "    </div>\n",
              "  </div>\n",
              "  "
            ]
          },
          "metadata": {},
          "execution_count": 46
        }
      ]
    },
    {
      "cell_type": "code",
      "source": [
        "import nltk\n",
        "nltk.download('stopwords')"
      ],
      "metadata": {
        "colab": {
          "base_uri": "https://localhost:8080/"
        },
        "id": "4akTxuwFEnQ_",
        "outputId": "b6868da2-2ea1-4d4e-8e24-8a48e64447de"
      },
      "execution_count": 47,
      "outputs": [
        {
          "output_type": "stream",
          "name": "stderr",
          "text": [
            "[nltk_data] Downloading package stopwords to /root/nltk_data...\n",
            "[nltk_data]   Unzipping corpora/stopwords.zip.\n"
          ]
        },
        {
          "output_type": "execute_result",
          "data": {
            "text/plain": [
              "True"
            ]
          },
          "metadata": {},
          "execution_count": 47
        }
      ]
    },
    {
      "cell_type": "code",
      "source": [
        "## Removal of Stopwords\n",
        "from nltk.corpus import stopwords\n",
        "STOPWORDS = set(stopwords.words('english'))\n",
        "def remove_stopwords(text):\n",
        "    \"\"\"custom function to remove the stopwords\"\"\"\n",
        "    return \" \".join([word for word in str(text).split() if word not in STOPWORDS])\n",
        "\n",
        "zomato[\"reviews_list\"] = zomato[\"reviews_list\"].apply(lambda text: remove_stopwords(text))"
      ],
      "metadata": {
        "id": "bckqAJYREpuj"
      },
      "execution_count": 48,
      "outputs": []
    },
    {
      "cell_type": "code",
      "source": [
        "import re\n",
        "## Removal of URLS\n",
        "def remove_urls(text):\n",
        "    url_pattern = re.compile(r'https?://\\S+|www\\.\\S+')\n",
        "    return url_pattern.sub(r'', text)\n",
        "\n",
        "zomato[\"reviews_list\"] = zomato[\"reviews_list\"].apply(lambda text: remove_urls(text))"
      ],
      "metadata": {
        "id": "91Z-gl1bEtha"
      },
      "execution_count": 50,
      "outputs": []
    },
    {
      "cell_type": "code",
      "source": [
        "# RESTAURANT NAMES:\n",
        "restaurant_names = list(zomato['name'].unique())\n",
        "restaurant_names"
      ],
      "metadata": {
        "colab": {
          "base_uri": "https://localhost:8080/"
        },
        "id": "dyAJnRrrEwWF",
        "outputId": "0cb6fdb2-cca2-48c4-e4e2-d45cda595161"
      },
      "execution_count": 51,
      "outputs": [
        {
          "output_type": "execute_result",
          "data": {
            "text/plain": [
              "['Jalsa',\n",
              " 'Spice Elephant',\n",
              " 'San Churro Cafe',\n",
              " 'Addhuri Udupi Bhojana',\n",
              " 'Grand Village',\n",
              " 'Timepass Dinner',\n",
              " 'Rosewood International Hotel - Bar & Restaurant',\n",
              " 'Onesta',\n",
              " 'Penthouse Cafe',\n",
              " 'Smacznego',\n",
              " 'Cafã\\x83Â\\x83Ã\\x82Â\\x83Ã\\x83Â\\x82Ã\\x82Â\\x83Ã\\x83Â\\x83Ã\\x82Â\\x82Ã\\x83Â\\x82Ã\\x82Â© Down The Alley',\n",
              " 'Cafe Shuffle',\n",
              " 'The Coffee Shack',\n",
              " 'Caf-Eleven',\n",
              " 'Cafe Vivacity',\n",
              " 'Catch-Up-Ino',\n",
              " \"Kirthi'S Biryani\",\n",
              " 'T3H Cafe',\n",
              " '360 Atoms Restaurant And Cafe',\n",
              " 'The Vintage Cafe',\n",
              " 'Woodee Pizza',\n",
              " 'Cafe Coffee Day',\n",
              " 'My Tea House',\n",
              " 'Hide Out Cafe',\n",
              " 'Cafe Nova',\n",
              " 'Coffee Tindi',\n",
              " 'Sea Green Cafe',\n",
              " 'Cuppa',\n",
              " \"Srinathji'S Cafe\",\n",
              " 'Redberrys',\n",
              " 'Foodiction',\n",
              " 'Sweet Truth',\n",
              " 'Ovenstory Pizza',\n",
              " 'Faasos',\n",
              " 'Behrouz Biryani',\n",
              " 'Fast And Fresh',\n",
              " 'Szechuan Dragon',\n",
              " 'Empire Restaurant',\n",
              " 'Maruthi Davangere Benne Dosa',\n",
              " 'Chaatimes',\n",
              " 'Havyaka Mess',\n",
              " \"Mcdonald'S\",\n",
              " \"Domino'S Pizza\",\n",
              " 'Hotboxit',\n",
              " 'Kitchen Garden',\n",
              " 'Recipe',\n",
              " 'Beijing Bites',\n",
              " 'Tasty Bytes',\n",
              " 'Petoo',\n",
              " 'Shree Cool Point',\n",
              " 'Corner House Ice Cream',\n",
              " 'Biryanis And More',\n",
              " 'Roving Feast',\n",
              " 'Freshmenu',\n",
              " 'Banashankari Donne Biriyani',\n",
              " 'Wamama',\n",
              " 'Five Star Chicken',\n",
              " 'Xo Belgian Waffle',\n",
              " 'Peppy Peppers',\n",
              " 'Goa 0 Km',\n",
              " 'Chinese Kitchen',\n",
              " '1947',\n",
              " 'Cake Of The Day',\n",
              " 'Kabab Magic',\n",
              " \"Namma Brahmin'S Idli\",\n",
              " 'Gustoes Beer House',\n",
              " 'Sugar Rush',\n",
              " 'Burger King',\n",
              " 'The Good Bowl',\n",
              " 'The Biryani Cafe',\n",
              " 'Lsd Cafe',\n",
              " 'Rolls On Wheels',\n",
              " 'Sri Guru Kottureshwara Davangere Benne Dosa',\n",
              " 'Devanna Dum Biriyani Centre',\n",
              " 'Kolbeh',\n",
              " 'Upahar Sagar',\n",
              " 'Kadalu Sea Food Restaurant',\n",
              " 'Frozen Bottle',\n",
              " 'Parimala Sweets',\n",
              " 'Vaishali Deluxe',\n",
              " 'The Big O Bakes',\n",
              " 'Meghana Foods',\n",
              " 'Krishna Sagar',\n",
              " 'Dessert Rose',\n",
              " 'Chickpet Donne Biryani House',\n",
              " \"Thanco'S Natural Ice Creams\",\n",
              " 'Nandhini Deluxe',\n",
              " \"Vi Ra'S Bar And Restaurant\",\n",
              " 'Kaggis',\n",
              " 'Ayda Persian Kitchen',\n",
              " 'Chatar Patar',\n",
              " 'Polar Bear',\n",
              " \"Kidambi'S Kitchen\",\n",
              " 'Mane Thindi',\n",
              " 'Kotian Karavali Restaurant',\n",
              " 'Floured-Baked With Love',\n",
              " 'Cakes & Slices',\n",
              " 'Spice 9',\n",
              " 'Naveen Kabab & Biriyani Mane',\n",
              " 'Katriguppe Donne Biryani',\n",
              " 'Atithi Point Ande Ka Funda',\n",
              " 'Just Bake',\n",
              " 'K27 - The Pub',\n",
              " 'Bengaluru Coffee House',\n",
              " 'New Mangalore Lunch Home',\n",
              " 'Coffee Bytes',\n",
              " 'Parjanya Chat Zone',\n",
              " \"Kwality Wall'S Swirl'S Happiness Station\",\n",
              " 'Ruchi Maayaka',\n",
              " 'Anna Kuteera',\n",
              " 'Darbar',\n",
              " 'Vijayalakshmi',\n",
              " 'Sri Udupi Food Hub',\n",
              " 'Udupi Upahar',\n",
              " 'House Of Kebabs',\n",
              " 'Roll N Rock',\n",
              " 'Box8- Desi Meals',\n",
              " 'Kfc',\n",
              " 'Roll Over',\n",
              " 'Imperial Restaurant',\n",
              " 'Lassi Shop',\n",
              " 'The Fortuna',\n",
              " 'Wahab',\n",
              " 'Al Diwan Biryanis And More',\n",
              " \"New Gowda'S Fried Chicken\",\n",
              " 'Canton',\n",
              " 'Diabetics Dezire Sugarless Sweets And Bakes',\n",
              " 'The Blue Wagon - Kitchen',\n",
              " 'Hot Coffee',\n",
              " 'Patio 805',\n",
              " 'Lassi Corner',\n",
              " 'Sagar Deluxe',\n",
              " 'Kanti Sweets',\n",
              " 'Vegetalia',\n",
              " 'Aramane Donne Biryani',\n",
              " 'Ande Ka Funda',\n",
              " 'Cake Ghar',\n",
              " 'Energy Addaa',\n",
              " 'Bhattara Bhojana',\n",
              " 'Tandoori Knight',\n",
              " 'Dev Sagar - Food Street',\n",
              " 'Mitraa Da Pizza',\n",
              " 'Paradise Premium',\n",
              " 'Grazers',\n",
              " 'Shakes Theory',\n",
              " '@Italy',\n",
              " 'Chilli Flakes',\n",
              " 'Calcutta Cafe',\n",
              " 'Old Mumbai Ice Cream',\n",
              " 'Donne Biriyani House',\n",
              " 'By 2 Coffee',\n",
              " \"Kedia'S Fun Food\",\n",
              " 'Davangere Butter Dosa Hotel',\n",
              " 'Just Shawarma',\n",
              " 'Mini Punjabi Dhaba',\n",
              " 'Mulabagilu Dosa',\n",
              " 'Gokul Veg',\n",
              " 'Olive - Era',\n",
              " 'Udupi Ruchi',\n",
              " 'Madhappa Hindu Military Hotel',\n",
              " 'Gama Gama',\n",
              " 'Pizza Hut',\n",
              " 'Mangalore Pearl',\n",
              " 'Asha Sweets Centre',\n",
              " 'Twiststick House',\n",
              " 'Cool Corner',\n",
              " 'Pizza Mane',\n",
              " 'Dal Tadkaa',\n",
              " 'Chutney Chang',\n",
              " 'Mystique Palate',\n",
              " 'Thamboola',\n",
              " 'Castle Rock',\n",
              " 'Vietnamese Kitchen',\n",
              " 'C Corner',\n",
              " 'Paratha Merchant',\n",
              " 'North Rasoe',\n",
              " 'Toscano',\n",
              " 'Lord Of The Kitchen',\n",
              " 'Stoned Monkey',\n",
              " 'Central Jail Restaurant',\n",
              " 'Bella',\n",
              " 'Vennela Andhra Meals',\n",
              " 'New Prashanth Hotel',\n",
              " 'The Grillo',\n",
              " 'Re Malnad Nati Style Hotel',\n",
              " 'Karma Kaapi',\n",
              " \"Tiwari'S\",\n",
              " 'Pizza Stop',\n",
              " \"Biggies Burger 'N' More\",\n",
              " \"Kollapuri'S\",\n",
              " 'Kadamba Classic',\n",
              " 'Rs Shiv Sagar',\n",
              " 'Kholi Mane',\n",
              " 'Harshi Super Sandwich',\n",
              " 'Cake Yard',\n",
              " 'Sri Udupi Veg',\n",
              " 'Cake Art',\n",
              " 'Potato House',\n",
              " 'Matru Sagar',\n",
              " 'Ugadi',\n",
              " 'Sri Krishna Sweets',\n",
              " 'In Time Cane Juice',\n",
              " 'Subway',\n",
              " 'Daal Roti',\n",
              " 'The Lassi Park',\n",
              " 'A2B - Adyar Ananda Bhavan',\n",
              " 'Srikrishna Bhavan',\n",
              " 'Green Gardenia',\n",
              " 'J Spice',\n",
              " 'Karavali Family Restaurant',\n",
              " 'Karavali Lunch Home',\n",
              " 'Hatti Kaapi',\n",
              " \"Kolkata Kathi Roll'S\",\n",
              " 'Upahara Darshini',\n",
              " 'The Chaat Shop',\n",
              " 'Anda Ka Funda',\n",
              " 'Shri Vinayaka Ice N Juice',\n",
              " 'Ibaco',\n",
              " 'Jalaram Sweets',\n",
              " 'Samskruti - Sanman Gardenia',\n",
              " 'Bendakaluru Bytes',\n",
              " 'Cocoa Bakes',\n",
              " 'Chumma Delicious',\n",
              " 'Dwaraka Grand',\n",
              " 'Gufha - The President Hotel',\n",
              " \"Tanna'S Kitchen\",\n",
              " 'Shree Mandarathi Grand',\n",
              " 'Mojo Pizza - 2X Toppings',\n",
              " 'Iceberg Icecreams',\n",
              " 'South Kitchen',\n",
              " 'Chung Wah',\n",
              " 'Shanthi Sagar',\n",
              " 'Millet Mama',\n",
              " 'Bangarpet Chat Express',\n",
              " 'Prems Graama Bhojanam',\n",
              " 'Java City',\n",
              " 'Kamat Bugle Rock',\n",
              " 'Puliyogare Point',\n",
              " 'Bangalore Agarwal Bhavan',\n",
              " 'Rustic Stove',\n",
              " 'Udupi Ruchi Grand',\n",
              " 'De Thaali',\n",
              " 'Just Thindi',\n",
              " 'Vasanth Vihar - Since 1965',\n",
              " 'Sea Spice By 7 Star',\n",
              " 'Desi Dawat',\n",
              " 'Cafe Aira',\n",
              " 'Mast Punjabi',\n",
              " 'South Grand',\n",
              " 'The Pizzeria',\n",
              " 'Cafe Zone',\n",
              " 'Ruchis Point',\n",
              " 'Firangi Bake',\n",
              " 'The Royal Corner - Pai Viceroy',\n",
              " 'Hara Fine Dine',\n",
              " 'Chocoberry',\n",
              " 'Dakshin Grand',\n",
              " 'Sandwichwallas',\n",
              " 'Chai Mane',\n",
              " 'Slv Upachar',\n",
              " 'Waffle-A-Go Go',\n",
              " 'Cross Road Cafe',\n",
              " 'Anand Donne Biriyani',\n",
              " 'Seven Star',\n",
              " \"Stop 'N' Joy\",\n",
              " 'Sri Yaksha Shiv Sagar',\n",
              " 'Fudge',\n",
              " 'Just Bunny',\n",
              " 'Bakers Town',\n",
              " 'Shree Mahalakshmi Sweets',\n",
              " 'Kaapi Kendra',\n",
              " 'Ivy',\n",
              " 'The Airos',\n",
              " 'Chai Kraft',\n",
              " 'South Point Pub',\n",
              " 'The Trundle',\n",
              " 'The Krishna Grand Xpress',\n",
              " 'Sri Krishna Darshini',\n",
              " 'Shringar Sweets & Snacks',\n",
              " 'Udupi Grand',\n",
              " 'Ganesh Grand',\n",
              " 'Shreyas Upahar & Burger Point',\n",
              " 'Little Cafe',\n",
              " 'Mumbai Badam Milk & Lassi Center',\n",
              " 'Sri Krishna Sagar',\n",
              " 'Mylari Biryani Family Restaurant',\n",
              " '1980S Games Cafe',\n",
              " 'Kadala Tarangaa',\n",
              " 'Namma Biryani',\n",
              " \"Nandhanu'S Rasoi\",\n",
              " 'Hotel Pork Paradise',\n",
              " 'As On Fire',\n",
              " 'J K Fish Land',\n",
              " 'Curry Leaves',\n",
              " 'Magic Meals',\n",
              " 'Desi Cream Junction',\n",
              " 'Drunken Monkey',\n",
              " \"Ruchi'S Corner\",\n",
              " 'Tandoori Bytes',\n",
              " 'Bangalore Donne Biriyani',\n",
              " 'Sgs Non Veg - Gundu Pulav',\n",
              " 'Keventers',\n",
              " 'Navi Food Point',\n",
              " 'Shawarma Inc',\n",
              " 'The Cafe Nuts And Bolts',\n",
              " 'Am Wow',\n",
              " 'Lalbagh Grand',\n",
              " 'Funjabi Curries',\n",
              " 'Eat Repeat',\n",
              " 'Salut',\n",
              " 'Nammura Donne Biriyani',\n",
              " 'Lassi Stop',\n",
              " 'Dakshin Kitchen',\n",
              " 'Sri Sai Cafe',\n",
              " 'Sri Sai 99 Variety Dosa',\n",
              " 'Utsav Restaurant',\n",
              " 'Crunch And Munch',\n",
              " 'Food Geek',\n",
              " 'Sri Krishna Aramane',\n",
              " 'Great Indian Rolls',\n",
              " 'Chats Point',\n",
              " 'Food Point',\n",
              " 'Swarga Ruchi',\n",
              " 'Kolkata King',\n",
              " \"Sandwich Mama'S And Frozen Monster\",\n",
              " 'New Rajadhani Spicy',\n",
              " 'Big Mishra Pedha',\n",
              " 'Vegeatz',\n",
              " 'Foodizo',\n",
              " 'Food Springs',\n",
              " \"Chung'S Chinese Corner\",\n",
              " 'Eurasia Pasta And Barbeque By Little Italy',\n",
              " 'Goli Vada Pav No. 1',\n",
              " \"Ragoo'S\",\n",
              " 'Pure & Natural',\n",
              " 'Maiyas',\n",
              " 'Sip N Dine',\n",
              " 'Cafe Mondo',\n",
              " 'Jalpaan',\n",
              " \"Kataria'S Pakwan\",\n",
              " 'Juicy Momos',\n",
              " 'Amande Patisserie',\n",
              " 'Anand Sweets And Savouries',\n",
              " 'Chicken Hunt',\n",
              " 'Swadesh Tadka',\n",
              " 'Cane-O-La',\n",
              " 'New Biryani Mane',\n",
              " 'Karnataka Bhel House',\n",
              " 'Sreeraj Lassi Bar',\n",
              " 'Juice Junction Food Court',\n",
              " \"Bunt'S Biriyani Palace\",\n",
              " 'Chai Point',\n",
              " 'Janahaar',\n",
              " 'Utsav',\n",
              " 'Meat And Eat',\n",
              " 'Snacks Bite',\n",
              " 'The Spice Saga',\n",
              " 'Dakshin Cafe',\n",
              " 'Kaulige Millet Corner',\n",
              " 'Ifruit Ice Cream',\n",
              " 'Havmor',\n",
              " 'Grand Food',\n",
              " 'Dining Hut',\n",
              " 'Desi Swaad',\n",
              " 'Yummy Momos',\n",
              " 'Masale Daan',\n",
              " 'Grow Fit',\n",
              " 'Sandwich Hub',\n",
              " 'Udupi Sri Krishna Cafe',\n",
              " 'Starlite Bakery & Fastfood',\n",
              " 'Veganbreak24X7',\n",
              " 'Aadhya Hotel',\n",
              " 'Dodda Mane Baaduta',\n",
              " 'Swadd Kitchen',\n",
              " 'Happy Chopsticks',\n",
              " 'Udupi Upachar',\n",
              " 'Davanagere Benne Dose Hut',\n",
              " 'Subz',\n",
              " 'Mint And Mustard',\n",
              " 'Chinese Square',\n",
              " 'Punjabi Raswada',\n",
              " \"Vinny'S\",\n",
              " \"Chetty'S Corner\",\n",
              " \"Kapoor'S Cafe\",\n",
              " 'Donne Biryani & Kabab Corner',\n",
              " 'Sukh Sagar',\n",
              " 'S M V Snacks Corner',\n",
              " 'Andhra Ruchulu',\n",
              " 'Steaming Mugs',\n",
              " 'Rajathadri Food Fort',\n",
              " 'Brew Meister',\n",
              " 'Rasoi',\n",
              " 'Mr. Singh Da Dhaba',\n",
              " 'Kababs N Biryani',\n",
              " 'Ayodhya Upachar',\n",
              " 'Biriyani Mane',\n",
              " 'Cafe Ajfan',\n",
              " 'Brundhavana Food Point',\n",
              " 'Slv Corner Restaurant',\n",
              " 'Hotel New Karavali',\n",
              " 'The Krishna Grand',\n",
              " 'Roti Ghar',\n",
              " 'Kettle & Kegs',\n",
              " 'Baisakhi',\n",
              " 'Poonam Sweets',\n",
              " \"Amma'S Pastries\",\n",
              " 'The Lassi And Juice Park',\n",
              " 'Corner Stone',\n",
              " 'Arun Ice Cream',\n",
              " 'Sweet N Swirl',\n",
              " 'Sri Venkateshwara Sweet Meat Stall',\n",
              " 'Baskin Robbins',\n",
              " 'Srinivasa Brahmins Bakery',\n",
              " 'Jain Bakes',\n",
              " 'Kc Das - Sweet Spot',\n",
              " 'A2B Veg - Adyar Ananda Bhavan',\n",
              " 'Jcubez',\n",
              " 'Blue Wings Bar & Restaurant',\n",
              " 'New Imperial Restaurant',\n",
              " 'Karavali Fish Center',\n",
              " \"Iyer'S Tiffin Centre\",\n",
              " 'Kydz Adda',\n",
              " 'Food Box Cafe',\n",
              " 'Sri Ganesh Juice And Chats',\n",
              " 'Manifest Cafe',\n",
              " 'Taaza Thindi',\n",
              " 'Sri Laxmi Venkateshwara Coffee Bar',\n",
              " 'Messy Bowl',\n",
              " 'Brahmin Cafe',\n",
              " 'Hotel Mangala',\n",
              " 'Simple Thindies',\n",
              " 'Slv Swadishta',\n",
              " 'New Sagar Fast Food',\n",
              " 'Parama Ruchi',\n",
              " 'Thrilok Restaurant',\n",
              " 'Hanumanthanagar Biryani Junction',\n",
              " 'Slv Refreshment',\n",
              " 'Svkp Daily Fresh',\n",
              " 'Srinagar Kabab Corner',\n",
              " 'Sri Venkateshwara Chat Centre',\n",
              " 'Vinay Bhel Corner',\n",
              " 'Nandi Chats And Juice',\n",
              " 'Food Adda',\n",
              " 'Hotel Nisarga',\n",
              " 'Yo Roll Corner',\n",
              " 'New Quality Dum Biryani',\n",
              " 'Sri Lakshmi Kabab Center',\n",
              " 'Tasty Bites',\n",
              " 'Raams Chicken',\n",
              " 'Panchami',\n",
              " 'Kavali',\n",
              " 'Ranganna Military Hotel',\n",
              " 'Vidyarthi Bhavan',\n",
              " 'Bharjari Oota',\n",
              " 'Bridgeway',\n",
              " 'Soho Bar & Grill',\n",
              " 'Bhavani Restaurant',\n",
              " 'Zephyr',\n",
              " 'Hotel Dwarka',\n",
              " 'Nisarga Garden Restaurant',\n",
              " 'Ma-Arya Family Restaurant',\n",
              " 'Udupi Sri Krishna Bhavan',\n",
              " 'Ice Thunder',\n",
              " 'Mahalaxmi Tiffin Room',\n",
              " 'Basavanagudi Mylari',\n",
              " 'Shrinidhi Military Hotel',\n",
              " 'Pramukh Family Restaurant',\n",
              " 'Vybhava',\n",
              " 'Shree Venkateshwara North Karnataka Hotel',\n",
              " 'Anand Sagar Inn',\n",
              " 'Sangam Military Hotel',\n",
              " 'Belly Squad Food Truck',\n",
              " '50-50 Eating House',\n",
              " 'Om Shiva Shakthi Chats Centre',\n",
              " 'Rolls Corner',\n",
              " 'New Ambur Hot Dum Biryani',\n",
              " 'Deja Vu Resto Bar',\n",
              " 'Fattoush',\n",
              " 'Abhiruchi Hotel',\n",
              " 'Tulips',\n",
              " 'Barbeque Nation',\n",
              " 'Sattvam',\n",
              " '24Th Main',\n",
              " 'Zaitoon',\n",
              " 'Mango Greens',\n",
              " 'Oye Amritsar',\n",
              " 'Melt - Eden Park',\n",
              " 'Spice Code',\n",
              " 'The Onyx - The Hhi Select Bengaluru',\n",
              " 'The Pavillion',\n",
              " 'Sankranthi Veg Restaurant',\n",
              " 'Tisano Cafe',\n",
              " 'Cafe Kabana',\n",
              " 'Butterly',\n",
              " 'Black Mug Cafe',\n",
              " '#Refuel',\n",
              " 'Wafl',\n",
              " 'Vaho Kafe & Pressery',\n",
              " 'Dreamcatcher',\n",
              " 'Cafe Arabica',\n",
              " 'Starbucks',\n",
              " 'Smoor',\n",
              " 'Kalmane Koffees',\n",
              " 'Shee-Sha Cafe',\n",
              " 'Brews N Bites',\n",
              " 'D2V Cafe',\n",
              " 'Cafe Talk',\n",
              " 'Cafe Choco Craze',\n",
              " 'Slate Cafe',\n",
              " 'Dialogues',\n",
              " 'Mudpipe Cafe',\n",
              " 'Tab - Take A Break',\n",
              " 'Cafe Potpourri',\n",
              " 'De Oxford Cafe',\n",
              " 'Vinaya Coffee Moments',\n",
              " 'Brew Point',\n",
              " 'The Cravery',\n",
              " \"Anju'S Cafe\",\n",
              " 'Skytouch Le Cafe',\n",
              " 'Hearts Unlock Cafe',\n",
              " 'Eat.Fit',\n",
              " 'Sai Abhiruchi',\n",
              " 'Capsicum Family Restaurant',\n",
              " 'Box Magic',\n",
              " \"Maa'R Rannaghor\",\n",
              " 'Easy Bites',\n",
              " 'Hiyar Majhe Kolkata',\n",
              " 'Dabba Gosht',\n",
              " 'Punjabites',\n",
              " 'Sri Lakshmi Dhaba',\n",
              " 'Swadista Aahar',\n",
              " 'Vegetarea',\n",
              " 'Al-Bek',\n",
              " \"Aniram'S\",\n",
              " 'Punjabi Nawabi',\n",
              " 'Yummrajj',\n",
              " 'Swad Punjab Da',\n",
              " 'Roti Wala',\n",
              " 'Midnight Mania',\n",
              " 'Kitchens@Jp Nagar',\n",
              " 'Krishna Kuteera',\n",
              " 'Apna Punjab',\n",
              " 'Paratha Junction',\n",
              " 'Nellore Bhojanam',\n",
              " 'Momoz',\n",
              " 'Kalingas',\n",
              " 'Kanteen The Eatery',\n",
              " 'Kullad Cafe',\n",
              " 'Litti Twist',\n",
              " 'Cakebuy',\n",
              " 'Delight Food',\n",
              " 'Andhra Kitchen',\n",
              " 'Veg By Nature',\n",
              " 'Chicken Magic',\n",
              " 'Swathi Restaurant',\n",
              " 'Fresh Kitchen',\n",
              " 'Hind Ka Chulah',\n",
              " 'Kuttanad',\n",
              " 'New Mahesh Friends Food Corner',\n",
              " 'Bohra Bohra Cafã\\x83Â\\x83Ã\\x82Â\\x83Ã\\x83Â\\x82Ã\\x82Â\\x83Ã\\x83Â\\x83Ã\\x82Â\\x82Ã\\x83Â\\x82Ã\\x82Â©',\n",
              " 'Shree Krishna Sannidhi',\n",
              " 'Bingejoy!',\n",
              " 'Shiv Sai Hotel',\n",
              " 'Mra',\n",
              " 'Burj Hotel',\n",
              " 'Shaadi Ki Biryani',\n",
              " 'Madeena Hotel',\n",
              " 'Biryani Durbar',\n",
              " 'Mahesh Friends Food Center',\n",
              " 'Juice Shop',\n",
              " \"Dadi'S Dum Biryani\",\n",
              " 'Krishna Kuteera South',\n",
              " 'Alankrutha',\n",
              " 'Paradise',\n",
              " 'Kabab Mehal',\n",
              " 'Sri Punjabi Dhaba',\n",
              " 'Arabian Mexico',\n",
              " 'Cakezone',\n",
              " 'Fujian Express',\n",
              " 'Indian Food',\n",
              " 'Tandoori Paradise',\n",
              " 'Kolkata Kathi Rolls',\n",
              " 'Adithya',\n",
              " 'Cheesiano Pizza',\n",
              " 'Nati Palace',\n",
              " \"Dande'S Hyderabad Biryani\",\n",
              " 'Upahara Bhavan',\n",
              " 'Sher-E-Punjab',\n",
              " 'Shuddh Desi Khana',\n",
              " 'Karama Restaurant',\n",
              " 'Jaganath Hotel And Restaurant',\n",
              " 'Aramane Donne Biriyani',\n",
              " \"Mani'S Dum Biryani\",\n",
              " 'Amontron',\n",
              " 'A M Biryani Hotel',\n",
              " 'Birinz',\n",
              " 'Hyderabadi Bawarchi',\n",
              " 'Fish Chain',\n",
              " 'Prasiddhi Food Corner',\n",
              " 'Biriyani Bhatti',\n",
              " 'Hyderabad Biryaani House',\n",
              " \"Galito'S\",\n",
              " 'C. K. Mega Hot Food',\n",
              " 'Red Chilli Restaurant',\n",
              " 'Rss Donne Biryani',\n",
              " 'Rajdhani Thali Restaurant',\n",
              " 'Phew (Play Hard Eat Wild)',\n",
              " 'New Kabab Zone',\n",
              " 'Bawarchi Paradise',\n",
              " 'Shree Udupi Grand',\n",
              " 'Chicken County Grand',\n",
              " 'Darjeeling Momos & Fast Food Center',\n",
              " 'Veruthe Oru Thattukada',\n",
              " 'Savoury - Sea Shell Restaurant',\n",
              " 'Warm Oven',\n",
              " 'Kundana',\n",
              " 'Food Ka Masti',\n",
              " 'The Shawarma Shop',\n",
              " 'Momo Junction',\n",
              " 'Antilla Aromas',\n",
              " 'Punjabi Food Corner',\n",
              " 'Mealer.In',\n",
              " 'Pathaan Sir',\n",
              " 'Cold Stone Creamery',\n",
              " 'Hari Super Sandwich',\n",
              " 'Amritsari Kulcha Land',\n",
              " 'Chokha Chowka',\n",
              " 'Gorbandh',\n",
              " 'Grills & Rolls',\n",
              " 'Bathinda Junction',\n",
              " 'Stories',\n",
              " \"New Gongura'S\",\n",
              " 'Sagar Grand',\n",
              " 'Ubq By Barbeque Nation',\n",
              " 'Agarwal Food Service',\n",
              " \"Daniyal'S\",\n",
              " 'Seasons',\n",
              " 'Chef Delicacies',\n",
              " 'Indiana Burgers',\n",
              " 'Moksha',\n",
              " 'Marwa Restaurant',\n",
              " 'Shanghai Court',\n",
              " 'Akshaya Donne Biriyani',\n",
              " 'Bhojohori Manna',\n",
              " 'Richie Rich',\n",
              " 'Hunger Bee',\n",
              " 'Yum In My Tum',\n",
              " 'Maggi N Maggi House',\n",
              " 'Fresh Dinner',\n",
              " 'B.M.W Bhookh Mitaane Wala',\n",
              " 'Biryani Miya',\n",
              " 'Krispy Kreme',\n",
              " 'Paani Kum Chai',\n",
              " 'Chulha Chauki Da Dhaba',\n",
              " \"Magix'S Parattha Roll\",\n",
              " 'Elegant Dining',\n",
              " 'Aliensip',\n",
              " 'Waffle Head',\n",
              " 'Samruddhi Biryani',\n",
              " 'Basmati Delights',\n",
              " \"Charlee'S Chicken\",\n",
              " 'Samosa Singh',\n",
              " 'Cravings',\n",
              " 'Nagas',\n",
              " 'Matka',\n",
              " 'Punjabi Swag',\n",
              " 'Taco Bell',\n",
              " 'Ambur Star Dum Biryani',\n",
              " \"Mother'S Rasoi\",\n",
              " 'Dosa Bazaar',\n",
              " 'Babu Moshai',\n",
              " 'The Bong Palate',\n",
              " 'Gowdru Mane Oota',\n",
              " 'Banashankari Nati Style',\n",
              " \"Chandrima'S Kitchen\",\n",
              " 'Bikaner Jn',\n",
              " 'Crunch Pizzas',\n",
              " 'Lassi Berg',\n",
              " 'Kakal-Kai Ruchi',\n",
              " 'Manchu Cafe',\n",
              " 'Calorie Express',\n",
              " 'Bangalore Box',\n",
              " 'Hotel Khaaja',\n",
              " 'The Gujarat Express',\n",
              " 'Vishal Foods',\n",
              " 'Lassi Darbar',\n",
              " 'Chavadi',\n",
              " 'Nanna Munna Paratha House',\n",
              " 'Cucumber Town',\n",
              " 'Kolkata Famous Kati Roll',\n",
              " 'Nellore Ruchulu',\n",
              " 'Brewsky',\n",
              " 'Chefeana',\n",
              " 'Bangaliana',\n",
              " 'Gud Dhani',\n",
              " 'The Hunger Room',\n",
              " 'Parisar Veg Restaurant',\n",
              " 'Deejas Kitchen',\n",
              " 'Pancuzzi',\n",
              " \"Zhang'S - Chinese Restaurant\",\n",
              " 'Shagun Sweets & Foods',\n",
              " 'Eat Well',\n",
              " \"Dev'S Gugababa\",\n",
              " 'Oogway Express',\n",
              " 'Balaji Bombay Vada Pav Gujrati Dalebi',\n",
              " 'The Cake Ville',\n",
              " 'The Egg Factory',\n",
              " 'Chow San',\n",
              " 'New Udupi Grand',\n",
              " 'New Karawali Lunch Home',\n",
              " 'Sr Choco Station',\n",
              " 'Momo Jojo',\n",
              " 'Simply Indian',\n",
              " 'Delhi Biryani Cafe',\n",
              " \"Rithika'S Kitchen\",\n",
              " 'Punjabi Times',\n",
              " 'Cravy Wings',\n",
              " 'Funky Punjab',\n",
              " 'A1 Garam Masala',\n",
              " 'Punjabi Corner',\n",
              " 'Guru Palace',\n",
              " 'Zeeshan',\n",
              " 'Ambara Gardenia',\n",
              " 'Layerbite',\n",
              " 'Bhavani Chats',\n",
              " 'More Pizza',\n",
              " 'Crafted Plate',\n",
              " \"Shetty'S Kitchen\",\n",
              " 'Machali Port',\n",
              " 'Naati Manae',\n",
              " 'Mad Over Biryani',\n",
              " 'Garma Garam',\n",
              " 'Sambram Biriyani Paradise',\n",
              " 'Mr. Meetharam',\n",
              " 'The Coastal Crew By Fujian On 24Th',\n",
              " 'Bib - Breakfast In The Box',\n",
              " 'Angel Restaurant',\n",
              " 'Wow Momo',\n",
              " 'Pizza Da Dhaba',\n",
              " 'Kalpavruksha',\n",
              " 'Juice Land',\n",
              " 'Tandoor And Spice',\n",
              " 'Rock Stone Ice Cream Factory',\n",
              " 'Paratha Plaza',\n",
              " 'Krishna Vijayashree',\n",
              " 'Soup Station',\n",
              " 'Tasty Point',\n",
              " 'Natural Mumbai Kulfi',\n",
              " 'Namma Kudla',\n",
              " 'Triveni',\n",
              " 'Wangs Kitchen',\n",
              " 'Rk Fresh Food',\n",
              " 'Alif Restaurant',\n",
              " 'Dine One One Restaurant',\n",
              " 'Pallavas Veg Cuisine',\n",
              " 'The Food Cottage',\n",
              " 'Brundhavana Pure Veg',\n",
              " 'Spice Up',\n",
              " 'Suryawanshi',\n",
              " 'Tempteys',\n",
              " 'Delibox.In',\n",
              " 'Frybies',\n",
              " 'Crumb Together',\n",
              " 'The Foodyz',\n",
              " \"Bean D'Er Cafe\",\n",
              " 'Chaat Chatore',\n",
              " 'Taste Of Kolkata',\n",
              " 'Y Not Restaurant',\n",
              " '24/7 Food Service',\n",
              " 'Modern Restaurant',\n",
              " 'Burrito Boys',\n",
              " 'Trippy Paradise',\n",
              " 'Biryani Magic',\n",
              " 'Nagarjuna',\n",
              " 'Laddoos',\n",
              " 'Waffle Stories',\n",
              " 'Late Night',\n",
              " 'Waffle Walle',\n",
              " 'Shake It Off',\n",
              " 'Bombay Kulfi',\n",
              " 'Chaat Central',\n",
              " 'Two Friends Cauldron',\n",
              " 'Bun Town',\n",
              " 'Garden Fresh',\n",
              " 'Dhabeliwala',\n",
              " \"Rayaan'S Bbq\",\n",
              " 'Chaat Junction',\n",
              " 'Asharfilal',\n",
              " 'Street Foods By Punjab Grill',\n",
              " \"Tiwari'S Ghee Paratha And Chats\",\n",
              " 'Spurthi Foods',\n",
              " 'Melting Pot At Woodrose',\n",
              " 'Pot Biryani',\n",
              " \"Thanco'S Natural Ice Cream\",\n",
              " 'Mango Tree- The Beer Garden',\n",
              " 'Dessi Cuppa',\n",
              " 'Halli Mane Mudde Oota',\n",
              " 'Wow Vada Pav',\n",
              " 'The Jade Kitchen',\n",
              " 'Krishna Vaibhava',\n",
              " 'Nandhanus Rasoi',\n",
              " 'Donne Biriyani Mane',\n",
              " 'Fish And Dish',\n",
              " 'Miss Momo',\n",
              " 'Intalia',\n",
              " 'Chicken County Restaurant',\n",
              " 'Velvet Kitchen',\n",
              " 'Hotel Aradhana',\n",
              " 'The Chervil',\n",
              " 'Sri Rajasthani Foods',\n",
              " 'New Royal Treat',\n",
              " 'I Cool',\n",
              " 'Mahek Pizza',\n",
              " 'Kc Das- Sweet World',\n",
              " 'Panther Cafe',\n",
              " 'Roots N Fruits',\n",
              " 'Kaizen Wellness Kitchen',\n",
              " 'Mad Over Donuts',\n",
              " 'Kolkata Famous Kati Rolls',\n",
              " 'Vinaya Cafe',\n",
              " 'Rbp Greens Garden',\n",
              " 'Dazu Momoz',\n",
              " 'Desi Dhaba',\n",
              " 'World Of Waffles',\n",
              " \"Pika'S Kitchen\",\n",
              " 'Lassi Cafe',\n",
              " 'New Mogul Empire',\n",
              " 'Atithi Biryani Corner',\n",
              " 'Oottupura Family Restaurant',\n",
              " 'Yumme Veg',\n",
              " 'Shree Guru Raghavendra Chats Chintamani Special',\n",
              " 'Vyanjan',\n",
              " 'Sri Sankara Cafe',\n",
              " 'Bhaijaan Barbeques',\n",
              " 'Chatter Platter',\n",
              " 'Bikaneri Sweets',\n",
              " \"Watson'S\",\n",
              " 'Sri Nandi Grand',\n",
              " 'Chicken Man',\n",
              " \"Chef Baker'S\",\n",
              " 'Sree Ganesha Fruits & Juice',\n",
              " 'Nandhana Palace',\n",
              " 'Biryani Nights',\n",
              " 'Thejas Bhavan',\n",
              " 'Graffitea',\n",
              " 'Gappe',\n",
              " 'On The Nose',\n",
              " 'Juicy & Spicy',\n",
              " 'Eat Repeat Express',\n",
              " 'Tfi - The Fresh Ice Cream',\n",
              " 'Mirch Masala',\n",
              " 'Just Chill',\n",
              " \"Bengalooru Tiffany'S\",\n",
              " 'Udupi Thaja Thindi',\n",
              " 'Baba Ka Dhaba',\n",
              " 'Hot Burg',\n",
              " 'Northern Bites',\n",
              " 'Hotel Smile',\n",
              " 'Roll Wala',\n",
              " 'Natural Ice Cream',\n",
              " 'F3 Food Fun Fiesta',\n",
              " \"Churchill'S\",\n",
              " \"Kulkarni'S New Uttara Karnataka Food Speciality Stores\",\n",
              " 'The Hungers Zone',\n",
              " 'The Chocolate Room',\n",
              " 'Aramane Restaurant',\n",
              " 'Hunger2Eat',\n",
              " 'Bbq Ride 46',\n",
              " 'Bawarchi Inn',\n",
              " \"Ruh'S Cafe\",\n",
              " 'Eatery Have U Been',\n",
              " 'Upahar Banashree',\n",
              " 'Me And My Cake',\n",
              " 'Bhojon Tripti',\n",
              " 'New South Corner',\n",
              " 'Khana Khazana',\n",
              " 'China Tang',\n",
              " 'California Burrito',\n",
              " 'Tandoor Garden',\n",
              " 'Caffe Pascucci',\n",
              " 'Freeze It',\n",
              " 'Meal Square',\n",
              " 'Chaitanya Cafe',\n",
              " 'Tasty Jigarthanda',\n",
              " 'Berrylicious',\n",
              " 'Rcs Kitchen',\n",
              " 'Pappu Da Dhaba',\n",
              " 'Smoke - The Sizzler House',\n",
              " 'Sandwich Shop',\n",
              " 'Joon Restaurant',\n",
              " 'Snack Knack',\n",
              " 'Chung Wah Opus',\n",
              " 'Chef & Dine',\n",
              " 'Once In Nature',\n",
              " 'Manjushree Upahara',\n",
              " 'Hotel Annapoorna',\n",
              " 'Dream A Dozen',\n",
              " 'Bread Crumbs Bakery',\n",
              " 'Nite Out',\n",
              " 'Cupcake Bliss',\n",
              " 'Armaani Caffe',\n",
              " 'Muddhe Bytes',\n",
              " 'Bombay Kulfis',\n",
              " 'Willys Top Cafe',\n",
              " 'Mist N Creams',\n",
              " 'Papacream',\n",
              " \"Woody'S\",\n",
              " 'Jp Fish Land',\n",
              " 'Pepper Crown Restaurant',\n",
              " 'Pizza Paradise',\n",
              " 'The Curry Hut Plus',\n",
              " 'Malabar Mess',\n",
              " 'Malabar Cafe',\n",
              " 'Tangra Indo - Chinese Cuisine',\n",
              " 'Juice Junction',\n",
              " 'Xpress Chai',\n",
              " 'Zhangs Classic',\n",
              " 'Guru Greens',\n",
              " 'D View Cafe',\n",
              " 'The Cuboidal',\n",
              " 'Delifusion - Hunger Sorted',\n",
              " 'Flavour Of China',\n",
              " 'Gujrati Mess',\n",
              " 'Cake-O-Mania',\n",
              " 'The Park Inn Restaurant',\n",
              " 'Eagle Ridge',\n",
              " 'Vidya Cafe',\n",
              " 'Kabab Treat',\n",
              " 'Limra Hotel',\n",
              " 'Kafe Nook',\n",
              " 'Kumbha Bhojanam',\n",
              " 'Yummerica Fries',\n",
              " 'Casa Piccosa',\n",
              " 'Bake Addiction',\n",
              " 'Tongue Twisters',\n",
              " 'Hot Rolls & House Of Kebabs',\n",
              " 'Aami Kolkata',\n",
              " 'Vaathsalya Millet Cafe',\n",
              " 'Hungry Buddies',\n",
              " 'Thericebowl.In',\n",
              " 'Guru Garden',\n",
              " 'Cakes By M',\n",
              " 'Brewz Coffee',\n",
              " 'Fritz Haber',\n",
              " 'Athithi',\n",
              " 'Smooth Blender',\n",
              " 'Sri Bhagya Grand',\n",
              " \"Shree Guru Juice 'N' Ice\",\n",
              " 'Bhavya Military Hotel',\n",
              " 'Neals Cafe',\n",
              " 'Flavorsome Bakes',\n",
              " 'Bake-Ooh',\n",
              " 'The Yummy Tummy',\n",
              " 'Mast Kalandar',\n",
              " \"Sultan'S Biryani\",\n",
              " 'Halli Sogasu',\n",
              " 'Crepe Nation',\n",
              " 'Rice Bar',\n",
              " 'Kanika Biryani Paradise',\n",
              " 'Resto',\n",
              " 'New Tandoori Point',\n",
              " 'Shiv Sagar',\n",
              " 'Little Shangai',\n",
              " \"Nadella'S Kitchen\",\n",
              " \"Uncle'S Kitchen\",\n",
              " 'Coastal Inn',\n",
              " \"Mom'S Momos\",\n",
              " 'Aishwarya Parkland',\n",
              " 'Slice Of Spice',\n",
              " 'Bao And Rolls',\n",
              " 'Andhra Bhojanam',\n",
              " 'Kanchan Dhaba',\n",
              " 'Encyclofoodia',\n",
              " 'Bella?S Kitchen',\n",
              " 'Food Feast Multicusine Restaurant',\n",
              " 'Bangalir Rannaghar',\n",
              " 'Sai Samosa & Chat Corner',\n",
              " \"Lalchee'S Rasoi\",\n",
              " 'Kailash Parbat',\n",
              " \"Dream'S Kitchen\",\n",
              " 'Tandoor Hut',\n",
              " 'The Chocolatiers',\n",
              " 'Ballava',\n",
              " 'Zaika Take Away',\n",
              " 'Snackiey',\n",
              " 'Sandwich Mamas',\n",
              " 'The Shake Factory Originals',\n",
              " 'Hotel Lakshmi Paradise',\n",
              " 'Desi Bites',\n",
              " 'Shiv Sai',\n",
              " 'The Juicy',\n",
              " 'Feast And Burp',\n",
              " 'Zengi Pub & Restaurant',\n",
              " 'Cafe Indiana',\n",
              " 'Multi Cakes',\n",
              " 'Bhukkad',\n",
              " 'Malhar Maharashtrian Cuisine',\n",
              " 'Mandi',\n",
              " 'Pallavi North Indian Veg Restaurant',\n",
              " 'Restro Cafe',\n",
              " ...]"
            ]
          },
          "metadata": {},
          "execution_count": 51
        }
      ]
    },
    {
      "cell_type": "code",
      "source": [
        "def get_top_words(column, top_nu_of_words, nu_of_word):\n",
        "    \n",
        "    vec = CountVectorizer(ngram_range= nu_of_word, stop_words='english')\n",
        "    \n",
        "    bag_of_words = vec.fit_transform(column)\n",
        "    \n",
        "    sum_words = bag_of_words.sum(axis=0)\n",
        "    \n",
        "    words_freq = [(word, sum_words[0, idx]) for word, idx in vec.vocabulary_.items()]\n",
        "    \n",
        "    words_freq =sorted(words_freq, key = lambda x: x[1], reverse=True)\n",
        "    \n",
        "    return words_freq[:top_nu_of_words]"
      ],
      "metadata": {
        "id": "Mwj-4JmhEy31"
      },
      "execution_count": 52,
      "outputs": []
    },
    {
      "cell_type": "code",
      "source": [
        "import pandas\n",
        "\n",
        "# Randomly sample 60% of your dataframe\n",
        "df_percent = zomato.sample(frac=0.5)"
      ],
      "metadata": {
        "id": "hiMzNhdCFMqi"
      },
      "execution_count": 54,
      "outputs": []
    },
    {
      "cell_type": "code",
      "source": [
        "df_percent.set_index('name', inplace=True)"
      ],
      "metadata": {
        "id": "0wGumnYAE1FZ"
      },
      "execution_count": 55,
      "outputs": []
    },
    {
      "cell_type": "code",
      "source": [
        "indices = pd.Series(df_percent.index)"
      ],
      "metadata": {
        "id": "9yvJ0QOBFOp9"
      },
      "execution_count": 56,
      "outputs": []
    },
    {
      "cell_type": "code",
      "source": [
        "import warnings\n",
        "warnings.filterwarnings('always')\n",
        "warnings.filterwarnings('ignore')\n",
        "import re\n",
        "from nltk.corpus import stopwords\n",
        "from sklearn.metrics.pairwise import linear_kernel\n",
        "from sklearn.feature_extraction.text import CountVectorizer\n",
        "from sklearn.feature_extraction.text import TfidfVectorizer"
      ],
      "metadata": {
        "id": "BMKImUZBFfEA"
      },
      "execution_count": 59,
      "outputs": []
    },
    {
      "cell_type": "code",
      "source": [
        "# Creating tf-idf matrix\n",
        "tfidf = TfidfVectorizer(analyzer='word', ngram_range=(1, 2), min_df=0, stop_words='english')\n",
        "tfidf_matrix = tfidf.fit_transform(df_percent['reviews_list'])"
      ],
      "metadata": {
        "id": "X87HsF5WFRjI"
      },
      "execution_count": 60,
      "outputs": []
    },
    {
      "cell_type": "code",
      "source": [
        "cosine_similarities = linear_kernel(tfidf_matrix, tfidf_matrix)"
      ],
      "metadata": {
        "id": "PiatpNRKFmDR"
      },
      "execution_count": 61,
      "outputs": []
    },
    {
      "cell_type": "code",
      "source": [
        "def recommend(name, cosine_similarities = cosine_similarities):\n",
        "    \n",
        "    # Create a list to put top restaurants\n",
        "    recommend_restaurant = []\n",
        "    \n",
        "    # Find the index of the hotel entered\n",
        "    idx = indices[indices == name].index[0]\n",
        "    \n",
        "    # Find the restaurants with a similar cosine-sim value and order them from bigges number\n",
        "    score_series = pd.Series(cosine_similarities[idx]).sort_values(ascending=False)\n",
        "    \n",
        "    # Extract top 30 restaurant indexes with a similar cosine-sim value\n",
        "    top30_indexes = list(score_series.iloc[0:31].index)\n",
        "    \n",
        "    # Names of the top 30 restaurants\n",
        "    for each in top30_indexes:\n",
        "        recommend_restaurant.append(list(df_percent.index)[each])\n",
        "    \n",
        "    # Creating the new data set to show similar restaurants\n",
        "    df_new = pd.DataFrame(columns=['cuisines', 'Mean Rating', 'cost'])\n",
        "    \n",
        "    # Create the top 30 similar restaurants with some of their columns\n",
        "    for each in recommend_restaurant:\n",
        "        df_new = df_new.append(pd.DataFrame(df_percent[['cuisines','Mean Rating', 'cost']][df_percent.index == each].sample()))\n",
        "    \n",
        "    # Drop the same named restaurants and sort only the top 10 by the highest rating\n",
        "    df_new = df_new.drop_duplicates(subset=['cuisines','Mean Rating', 'cost'], keep=False)\n",
        "    df_new = df_new.sort_values(by='Mean Rating', ascending=False).head(10)\n",
        "    \n",
        "    print('TOP %s RESTAURANTS LIKE %s WITH SIMILAR REVIEWS: ' % (str(len(df_new)), name))\n",
        "    \n",
        "    return df_new"
      ],
      "metadata": {
        "id": "OQUmv2xrFr0-"
      },
      "execution_count": 62,
      "outputs": []
    },
    {
      "cell_type": "code",
      "source": [
        "df_percent[df_percent.index == 'Vihar'].head()"
      ],
      "metadata": {
        "colab": {
          "base_uri": "https://localhost:8080/",
          "height": 288
        },
        "id": "To4m2CfGFvJa",
        "outputId": "4ab14f35-801d-4cd2-a93d-696195d4be38"
      },
      "execution_count": 67,
      "outputs": [
        {
          "output_type": "execute_result",
          "data": {
            "text/plain": [
              "                                                     address  online_order  \\\n",
              "name                                                                         \n",
              "Pai Vihar  16/A, Ground Floor, Kkmp Building, Vasanth Nag...         False   \n",
              "Pai Vihar  1106, OTC Road, Opposite City Corporation Offi...         False   \n",
              "Pai Vihar  16/A, Ground Floor, Kkmp Building, Vasanth Nag...          True   \n",
              "\n",
              "           book_table  rate  votes       location    rest_type  \\\n",
              "name                                                             \n",
              "Pai Vihar       False   2.8     56  Vasanth Nagar  Quick Bites   \n",
              "Pai Vihar       False   3.3     42    City Market  Quick Bites   \n",
              "Pai Vihar       False   2.8     56  Vasanth Nagar  Quick Bites   \n",
              "\n",
              "                                                cuisines   cost  \\\n",
              "name                                                              \n",
              "Pai Vihar  South Indian, Street Food, Chinese, Fast Food  400.0   \n",
              "Pai Vihar  South Indian, Street Food, Chinese, Fast Food  400.0   \n",
              "Pai Vihar  South Indian, Street Food, Chinese, Fast Food  400.0   \n",
              "\n",
              "                                                reviews_list menu_item  \\\n",
              "name                                                                     \n",
              "Pai Vihar  rated 30 ratedn 12 rate hereãx83ãx83ãx82ãx...        []   \n",
              "Pai Vihar  rated 20 ratedn food dry bland dont understand...        []   \n",
              "Pai Vihar  rated 30 ratedn 12 rate herenneven though tast...        []   \n",
              "\n",
              "               type            city  Mean Rating  \n",
              "name                                              \n",
              "Pai Vihar  Delivery  Residency Road         2.48  \n",
              "Pai Vihar  Dine-out  Residency Road         2.48  \n",
              "Pai Vihar  Dine-out     Frazer Town         2.48  "
            ],
            "text/html": [
              "\n",
              "  <div id=\"df-34523834-a7cc-4ee1-b344-e75832572139\">\n",
              "    <div class=\"colab-df-container\">\n",
              "      <div>\n",
              "<style scoped>\n",
              "    .dataframe tbody tr th:only-of-type {\n",
              "        vertical-align: middle;\n",
              "    }\n",
              "\n",
              "    .dataframe tbody tr th {\n",
              "        vertical-align: top;\n",
              "    }\n",
              "\n",
              "    .dataframe thead th {\n",
              "        text-align: right;\n",
              "    }\n",
              "</style>\n",
              "<table border=\"1\" class=\"dataframe\">\n",
              "  <thead>\n",
              "    <tr style=\"text-align: right;\">\n",
              "      <th></th>\n",
              "      <th>address</th>\n",
              "      <th>online_order</th>\n",
              "      <th>book_table</th>\n",
              "      <th>rate</th>\n",
              "      <th>votes</th>\n",
              "      <th>location</th>\n",
              "      <th>rest_type</th>\n",
              "      <th>cuisines</th>\n",
              "      <th>cost</th>\n",
              "      <th>reviews_list</th>\n",
              "      <th>menu_item</th>\n",
              "      <th>type</th>\n",
              "      <th>city</th>\n",
              "      <th>Mean Rating</th>\n",
              "    </tr>\n",
              "    <tr>\n",
              "      <th>name</th>\n",
              "      <th></th>\n",
              "      <th></th>\n",
              "      <th></th>\n",
              "      <th></th>\n",
              "      <th></th>\n",
              "      <th></th>\n",
              "      <th></th>\n",
              "      <th></th>\n",
              "      <th></th>\n",
              "      <th></th>\n",
              "      <th></th>\n",
              "      <th></th>\n",
              "      <th></th>\n",
              "      <th></th>\n",
              "    </tr>\n",
              "  </thead>\n",
              "  <tbody>\n",
              "    <tr>\n",
              "      <th>Pai Vihar</th>\n",
              "      <td>16/A, Ground Floor, Kkmp Building, Vasanth Nag...</td>\n",
              "      <td>False</td>\n",
              "      <td>False</td>\n",
              "      <td>2.8</td>\n",
              "      <td>56</td>\n",
              "      <td>Vasanth Nagar</td>\n",
              "      <td>Quick Bites</td>\n",
              "      <td>South Indian, Street Food, Chinese, Fast Food</td>\n",
              "      <td>400.0</td>\n",
              "      <td>rated 30 ratedn 12 rate hereãx83ãx83ãx82ãx...</td>\n",
              "      <td>[]</td>\n",
              "      <td>Delivery</td>\n",
              "      <td>Residency Road</td>\n",
              "      <td>2.48</td>\n",
              "    </tr>\n",
              "    <tr>\n",
              "      <th>Pai Vihar</th>\n",
              "      <td>1106, OTC Road, Opposite City Corporation Offi...</td>\n",
              "      <td>False</td>\n",
              "      <td>False</td>\n",
              "      <td>3.3</td>\n",
              "      <td>42</td>\n",
              "      <td>City Market</td>\n",
              "      <td>Quick Bites</td>\n",
              "      <td>South Indian, Street Food, Chinese, Fast Food</td>\n",
              "      <td>400.0</td>\n",
              "      <td>rated 20 ratedn food dry bland dont understand...</td>\n",
              "      <td>[]</td>\n",
              "      <td>Dine-out</td>\n",
              "      <td>Residency Road</td>\n",
              "      <td>2.48</td>\n",
              "    </tr>\n",
              "    <tr>\n",
              "      <th>Pai Vihar</th>\n",
              "      <td>16/A, Ground Floor, Kkmp Building, Vasanth Nag...</td>\n",
              "      <td>True</td>\n",
              "      <td>False</td>\n",
              "      <td>2.8</td>\n",
              "      <td>56</td>\n",
              "      <td>Vasanth Nagar</td>\n",
              "      <td>Quick Bites</td>\n",
              "      <td>South Indian, Street Food, Chinese, Fast Food</td>\n",
              "      <td>400.0</td>\n",
              "      <td>rated 30 ratedn 12 rate herenneven though tast...</td>\n",
              "      <td>[]</td>\n",
              "      <td>Dine-out</td>\n",
              "      <td>Frazer Town</td>\n",
              "      <td>2.48</td>\n",
              "    </tr>\n",
              "  </tbody>\n",
              "</table>\n",
              "</div>\n",
              "      <button class=\"colab-df-convert\" onclick=\"convertToInteractive('df-34523834-a7cc-4ee1-b344-e75832572139')\"\n",
              "              title=\"Convert this dataframe to an interactive table.\"\n",
              "              style=\"display:none;\">\n",
              "        \n",
              "  <svg xmlns=\"http://www.w3.org/2000/svg\" height=\"24px\"viewBox=\"0 0 24 24\"\n",
              "       width=\"24px\">\n",
              "    <path d=\"M0 0h24v24H0V0z\" fill=\"none\"/>\n",
              "    <path d=\"M18.56 5.44l.94 2.06.94-2.06 2.06-.94-2.06-.94-.94-2.06-.94 2.06-2.06.94zm-11 1L8.5 8.5l.94-2.06 2.06-.94-2.06-.94L8.5 2.5l-.94 2.06-2.06.94zm10 10l.94 2.06.94-2.06 2.06-.94-2.06-.94-.94-2.06-.94 2.06-2.06.94z\"/><path d=\"M17.41 7.96l-1.37-1.37c-.4-.4-.92-.59-1.43-.59-.52 0-1.04.2-1.43.59L10.3 9.45l-7.72 7.72c-.78.78-.78 2.05 0 2.83L4 21.41c.39.39.9.59 1.41.59.51 0 1.02-.2 1.41-.59l7.78-7.78 2.81-2.81c.8-.78.8-2.07 0-2.86zM5.41 20L4 18.59l7.72-7.72 1.47 1.35L5.41 20z\"/>\n",
              "  </svg>\n",
              "      </button>\n",
              "      \n",
              "  <style>\n",
              "    .colab-df-container {\n",
              "      display:flex;\n",
              "      flex-wrap:wrap;\n",
              "      gap: 12px;\n",
              "    }\n",
              "\n",
              "    .colab-df-convert {\n",
              "      background-color: #E8F0FE;\n",
              "      border: none;\n",
              "      border-radius: 50%;\n",
              "      cursor: pointer;\n",
              "      display: none;\n",
              "      fill: #1967D2;\n",
              "      height: 32px;\n",
              "      padding: 0 0 0 0;\n",
              "      width: 32px;\n",
              "    }\n",
              "\n",
              "    .colab-df-convert:hover {\n",
              "      background-color: #E2EBFA;\n",
              "      box-shadow: 0px 1px 2px rgba(60, 64, 67, 0.3), 0px 1px 3px 1px rgba(60, 64, 67, 0.15);\n",
              "      fill: #174EA6;\n",
              "    }\n",
              "\n",
              "    [theme=dark] .colab-df-convert {\n",
              "      background-color: #3B4455;\n",
              "      fill: #D2E3FC;\n",
              "    }\n",
              "\n",
              "    [theme=dark] .colab-df-convert:hover {\n",
              "      background-color: #434B5C;\n",
              "      box-shadow: 0px 1px 3px 1px rgba(0, 0, 0, 0.15);\n",
              "      filter: drop-shadow(0px 1px 2px rgba(0, 0, 0, 0.3));\n",
              "      fill: #FFFFFF;\n",
              "    }\n",
              "  </style>\n",
              "\n",
              "      <script>\n",
              "        const buttonEl =\n",
              "          document.querySelector('#df-34523834-a7cc-4ee1-b344-e75832572139 button.colab-df-convert');\n",
              "        buttonEl.style.display =\n",
              "          google.colab.kernel.accessAllowed ? 'block' : 'none';\n",
              "\n",
              "        async function convertToInteractive(key) {\n",
              "          const element = document.querySelector('#df-34523834-a7cc-4ee1-b344-e75832572139');\n",
              "          const dataTable =\n",
              "            await google.colab.kernel.invokeFunction('convertToInteractive',\n",
              "                                                     [key], {});\n",
              "          if (!dataTable) return;\n",
              "\n",
              "          const docLinkHtml = 'Like what you see? Visit the ' +\n",
              "            '<a target=\"_blank\" href=https://colab.research.google.com/notebooks/data_table.ipynb>data table notebook</a>'\n",
              "            + ' to learn more about interactive tables.';\n",
              "          element.innerHTML = '';\n",
              "          dataTable['output_type'] = 'display_data';\n",
              "          await google.colab.output.renderOutput(dataTable, element);\n",
              "          const docLink = document.createElement('div');\n",
              "          docLink.innerHTML = docLinkHtml;\n",
              "          element.appendChild(docLink);\n",
              "        }\n",
              "      </script>\n",
              "    </div>\n",
              "  </div>\n",
              "  "
            ]
          },
          "metadata": {},
          "execution_count": 67
        }
      ]
    }
  ],
  "metadata": {
    "kernelspec": {
      "display_name": "Python 3",
      "language": "python",
      "name": "python3"
    },
    "language_info": {
      "codemirror_mode": {
        "name": "ipython",
        "version": 3
      },
      "file_extension": ".py",
      "mimetype": "text/x-python",
      "name": "python",
      "nbconvert_exporter": "python",
      "pygments_lexer": "ipython3",
      "version": "3.7.4"
    },
    "colab": {
      "provenance": []
    }
  },
  "nbformat": 4,
  "nbformat_minor": 0
}